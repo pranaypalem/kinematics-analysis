{
 "cells": [
  {
   "cell_type": "markdown",
   "id": "b24ec116-0f0e-4492-b0c5-e439530886b2",
   "metadata": {},
   "source": [
    "## Assignment 2: Kinematics - Part 2\n",
    "\n",
    "### Pranay Palem"
   ]
  },
  {
   "cell_type": "markdown",
   "id": "e96a75f1-31d6-414d-84c0-4982e8c481d0",
   "metadata": {},
   "source": [
    "### Part 5"
   ]
  },
  {
   "cell_type": "code",
   "execution_count": 1,
   "id": "ccf239ad-1ed5-418f-9bd6-51949a9fcf6f",
   "metadata": {},
   "outputs": [],
   "source": [
    "import numpy\n",
    "import math\n",
    "import matplotlib.pyplot as plt\n",
    "import sympy\n",
    "\n",
    "from mpl_toolkits.mplot3d import Axes3D\n",
    "\n",
    "from sympy import symbols, Matrix, pi, cos, sin, I, acos, sqrt\n",
    "from sympy import Quaternion\n",
    "import scipy.optimize"
   ]
  },
  {
   "cell_type": "code",
   "id": "f9txa521hqf",
   "source": "# Google Colab compatibility\ntry:\n    import google.colab\n    IN_COLAB = True\n    print(\"Running in Google Colab\")\nexcept ImportError:\n    IN_COLAB = False\n    print(\"Running locally\")\n\n# Install required packages for animation if in Colab\nif IN_COLAB:\n    !pip install pillow matplotlib numpy sympy scipy",
   "metadata": {},
   "execution_count": null,
   "outputs": []
  },
  {
   "cell_type": "code",
   "execution_count": 2,
   "id": "f3b03f15-b9fd-4ffb-8e46-9ac2b7f298d8",
   "metadata": {},
   "outputs": [],
   "source": [
    "p0, p1, p2, p3, p4, p5 = symbols('p_0 , p_1, p_2, p_3, p_4, p_5 ')\n",
    "q1, q2 ,q3= symbols('\\\\theta_1, \\\\theta_2, \\\\theta_3')"
   ]
  },
  {
   "cell_type": "code",
   "execution_count": 3,
   "id": "29dfe68b-721c-4889-9fcc-ee357fa14749",
   "metadata": {},
   "outputs": [],
   "source": [
    "p0 = sympy.Matrix([0,0,0])\n",
    "p1 = sympy.Matrix([3,5,0])\n",
    "p2 = sympy.Matrix([5,-1,0])\n",
    "p3 = sympy.Matrix([9,1,0])\n",
    "p4 = sympy.Matrix([11,6,0])\n",
    "p5 = sympy.Matrix([7,6,0])"
   ]
  },
  {
   "cell_type": "markdown",
   "id": "70ce4db3-3439-49ba-bf9e-c42d1e403ec0",
   "metadata": {},
   "source": [
    "#### 1. Defining Rigid body"
   ]
  },
  {
   "cell_type": "code",
   "execution_count": 4,
   "id": "f76ec9de-e9f7-428f-b2cc-5c4f31fb2307",
   "metadata": {},
   "outputs": [],
   "source": [
    "#p0p1 = p0-p1\n",
    "p0p1 = p1-p0\n",
    "\n",
    "#p0p2 = p0-p2\n",
    "p0p2 = p2-p0\n",
    "\n",
    "#p2p1 = p2-p1\n",
    "p2p1 = p1-p2\n",
    "\n",
    "#1p5 = p1-p5\n",
    "p1p5 = p5-p1\n",
    "\n",
    "#p2p5 = p2-p5\n",
    "p2p5 = p5-p2\n",
    "\n",
    "#p2p3 = p2-p3\n",
    "p2p3 = p3-p2\n",
    "\n",
    "#p3p5 = p3-p5\n",
    "p3p5 = p5-p3\n",
    "\n",
    "#p3p5 = p3-p5\n",
    "\n",
    "#p5p4 = p5-p4\n",
    "p5p4 = p4-p5\n",
    "\n",
    "#p3p4 = p3-p4\n",
    "p3p4 = p4-p3\n",
    "#p3p4 = p3-p4\n"
   ]
  },
  {
   "cell_type": "code",
   "execution_count": 5,
   "id": "185c318e-607d-46a4-990f-6e9dbc8a860b",
   "metadata": {},
   "outputs": [
    {
     "data": {
      "text/latex": [
       "$\\displaystyle \\left[\\begin{matrix}-2\\\\6\\\\0\\end{matrix}\\right]$"
      ],
      "text/plain": [
       "Matrix([\n",
       "[-2],\n",
       "[ 6],\n",
       "[ 0]])"
      ]
     },
     "execution_count": 5,
     "metadata": {},
     "output_type": "execute_result"
    }
   ],
   "source": [
    "p2p1"
   ]
  },
  {
   "cell_type": "code",
   "execution_count": 6,
   "id": "7bbbda2c-6d41-47d8-b830-5ac82a997f29",
   "metadata": {},
   "outputs": [
    {
     "data": {
      "text/latex": [
       "$\\displaystyle \\left[\\begin{matrix}2\\\\7\\\\0\\end{matrix}\\right]$"
      ],
      "text/plain": [
       "Matrix([\n",
       "[2],\n",
       "[7],\n",
       "[0]])"
      ]
     },
     "execution_count": 6,
     "metadata": {},
     "output_type": "execute_result"
    }
   ],
   "source": [
    "p2p5"
   ]
  },
  {
   "cell_type": "code",
   "execution_count": 7,
   "id": "f110bf97-c908-45e9-895a-8d8d15429249",
   "metadata": {},
   "outputs": [
    {
     "data": {
      "text/latex": [
       "$\\displaystyle \\left[\\begin{matrix}-2\\\\5\\\\0\\end{matrix}\\right]$"
      ],
      "text/plain": [
       "Matrix([\n",
       "[-2],\n",
       "[ 5],\n",
       "[ 0]])"
      ]
     },
     "execution_count": 7,
     "metadata": {},
     "output_type": "execute_result"
    }
   ],
   "source": [
    "p3p5"
   ]
  },
  {
   "cell_type": "markdown",
   "id": "ba0b294f-55c1-4a7e-ae1f-c50fd3c579ab",
   "metadata": {},
   "source": [
    "#### 2. Defining unit quaternion"
   ]
  },
  {
   "cell_type": "code",
   "execution_count": 8,
   "id": "44656306-6331-4cee-ad45-3907289f0794",
   "metadata": {},
   "outputs": [],
   "source": [
    "def Rq(theta, vect):\n",
    "\n",
    "    q = Quaternion(0, vect[0],vect[1],vect[2])\n",
    "    unitq = q/q.norm()\n",
    "    rotq = sympy.cos(theta/2)+(sympy.sin(theta/2)*unitq)\n",
    "    \n",
    "    return rotq, unitq, q\n"
   ]
  },
  {
   "cell_type": "code",
   "execution_count": 9,
   "id": "433dd07c-dcdb-4cea-8e53-54f626846571",
   "metadata": {},
   "outputs": [
    {
     "data": {
      "text/latex": [
       "$\\displaystyle \\cos{\\left(\\frac{\\theta_{2}}{2} \\right)} + \\frac{2 \\sqrt{53} \\sin{\\left(\\frac{\\theta_{2}}{2} \\right)}}{53} i + \\frac{7 \\sqrt{53} \\sin{\\left(\\frac{\\theta_{2}}{2} \\right)}}{53} j + 0 k$"
      ],
      "text/plain": [
       "cos(\\theta_2/2) + 2*sqrt(53)*sin(\\theta_2/2)/53*i + 7*sqrt(53)*sin(\\theta_2/2)/53*j + 0*k"
      ]
     },
     "execution_count": 9,
     "metadata": {},
     "output_type": "execute_result"
    }
   ],
   "source": [
    "r21, unit21 , q21 = Rq(q1, p2p1)\n",
    "r25, unit25 , q25 = Rq(q2, p2p5)\n",
    "r35, unit35 , q35 = Rq(q3, p3p5)\n",
    "r25"
   ]
  },
  {
   "cell_type": "code",
   "execution_count": 10,
   "id": "5cc46455-573b-49a7-94ac-e5d166861c32",
   "metadata": {},
   "outputs": [
    {
     "data": {
      "text/latex": [
       "$\\displaystyle 0 + \\frac{2 \\sqrt{53}}{53} i + \\frac{7 \\sqrt{53}}{53} j + 0 k$"
      ],
      "text/plain": [
       "0 + 2*sqrt(53)/53*i + 7*sqrt(53)/53*j + 0*k"
      ]
     },
     "execution_count": 10,
     "metadata": {},
     "output_type": "execute_result"
    }
   ],
   "source": [
    "unit25"
   ]
  },
  {
   "cell_type": "code",
   "execution_count": 11,
   "id": "4995ab1d-8f39-4ae6-8b34-c7d63ad91105",
   "metadata": {},
   "outputs": [
    {
     "data": {
      "text/latex": [
       "$\\displaystyle 0 + 2 i + 7 j + 0 k$"
      ],
      "text/plain": [
       "0 + 2*i + 7*j + 0*k"
      ]
     },
     "execution_count": 11,
     "metadata": {},
     "output_type": "execute_result"
    }
   ],
   "source": [
    "q25"
   ]
  },
  {
   "cell_type": "markdown",
   "id": "95634280-3ce8-4f39-9d31-d80132105bd3",
   "metadata": {},
   "source": [
    "#### 3. We can define $\\vec{r}$ as\n",
    "\n",
    "$\\vec{r}$ = $\\vec{p_0p_1} + \\vec{p_1p_5} + \\vec{p_5p_4}$ <br> or <br>\n",
    "$\\vec{r}$ = $\\vec{p_0p_2} + \\vec{p_2p_3} + \\vec{p_3p_4}$"
   ]
  },
  {
   "cell_type": "markdown",
   "id": "783cb0d2-0790-4b1d-a080-3db2d1b30f64",
   "metadata": {},
   "source": [
    "#### 4. To define $\\vec{r}$ in $\\hat{a_x},\\hat{a_y},\\hat{a_z}$"
   ]
  },
  {
   "cell_type": "markdown",
   "id": "f85c0fac-ed7d-4b28-bfa6-8f02275ab71f",
   "metadata": {},
   "source": [
    "lets define the following \n",
    "\n",
    "$$\n",
    "    \\vec{v_1} = v\n",
    "$$\n",
    "$$\n",
    "    \\vec{v_2} = \\vec{p_1p_5}\n",
    "$$\n",
    "$$\n",
    "    \\vec{v_3} = \\vec{p_5p_4}\n",
    "$$\n",
    "\n",
    "$$\n",
    "    \\vec{r} = \\vec{p_0p_1}\n",
    "$$\n"
   ]
  },
  {
   "cell_type": "code",
   "execution_count": 12,
   "id": "22ccd07d-7a25-474c-a7e2-66721641c3b9",
   "metadata": {},
   "outputs": [
    {
     "data": {
      "text/latex": [
       "$\\displaystyle 0 + 2 i + 5 j + 0 k$"
      ],
      "text/plain": [
       "0 + 2*i + 5*j + 0*k"
      ]
     },
     "execution_count": 12,
     "metadata": {},
     "output_type": "execute_result"
    }
   ],
   "source": [
    "v1_in_a = Quaternion(0, p0p1[0], p0p1[1], p0p1[2])\n",
    "v2_in_b = Quaternion(0, p1p5[0], p1p5[1], p1p5[2])\n",
    "v3_in_c = Quaternion(0, p5p4[0], p5p4[1], p5p4[2])\n",
    "\n",
    "v4_in_a = Quaternion(0, p0p2[0], p0p2[1], p0p2[2])\n",
    "v5_in_b = Quaternion(0, p2p3[0], p2p3[1], p2p3[2])\n",
    "v6_in_c = Quaternion(0, p3p4[0], p3p4[1], p3p4[2])\n",
    "\n",
    "v6_in_c"
   ]
  },
  {
   "cell_type": "code",
   "execution_count": 13,
   "id": "dac6bebb-1907-403e-81e7-0f847d450fa5",
   "metadata": {},
   "outputs": [
    {
     "data": {
      "text/latex": [
       "$\\displaystyle 0 + \\left(-2\\right) i + \\left(-5\\right) j + 0 k$"
      ],
      "text/plain": [
       "0 + (-2)*i + (-5)*j + 0*k"
      ]
     },
     "execution_count": 13,
     "metadata": {},
     "output_type": "execute_result"
    }
   ],
   "source": [
    "v6_in_c.conjugate()"
   ]
  },
  {
   "cell_type": "code",
   "execution_count": 14,
   "id": "06293f54-2c28-43f7-af4f-5ff6cb52e31b",
   "metadata": {},
   "outputs": [],
   "source": [
    "def qtransform(q, r):\n",
    "\n",
    "    rconj = r.conjugate()\n",
    "\n",
    "    #temp = r*q\n",
    "    qTransformed = r * q * rconj\n",
    "    #qTransformed = rconj * q * r\n",
    "    \n",
    "    return qTransformed\n"
   ]
  },
  {
   "cell_type": "code",
   "execution_count": 15,
   "id": "0d4aa4a8-fd99-47f8-86f8-e2919df56806",
   "metadata": {},
   "outputs": [
    {
     "data": {
      "text/latex": [
       "$\\displaystyle 0 + 3 i + 5 j + 0 k$"
      ],
      "text/plain": [
       "0 + 3*i + 5*j + 0*k"
      ]
     },
     "execution_count": 15,
     "metadata": {},
     "output_type": "execute_result"
    }
   ],
   "source": [
    "v1_in_a"
   ]
  },
  {
   "cell_type": "code",
   "execution_count": 16,
   "id": "f5264b57-9b52-4ea1-977f-daec3adb1cad",
   "metadata": {},
   "outputs": [
    {
     "data": {
      "text/latex": [
       "$\\displaystyle 0 + \\left(- \\frac{19 \\sin^{2}{\\left(\\frac{\\theta_{1}}{2} \\right)}}{5} + 4 \\cos^{2}{\\left(\\frac{\\theta_{1}}{2} \\right)}\\right) i + \\left(- \\frac{8 \\sin^{2}{\\left(\\frac{\\theta_{1}}{2} \\right)}}{5} + \\cos^{2}{\\left(\\frac{\\theta_{1}}{2} \\right)}\\right) j + - \\frac{13 \\sqrt{10} \\sin{\\left(\\frac{\\theta_{1}}{2} \\right)} \\cos{\\left(\\frac{\\theta_{1}}{2} \\right)}}{5} k$"
      ],
      "text/plain": [
       "0 + (-19*sin(\\theta_1/2)**2/5 + 4*cos(\\theta_1/2)**2)*i + (-8*sin(\\theta_1/2)**2/5 + cos(\\theta_1/2)**2)*j + (-13*sqrt(10)*sin(\\theta_1/2)*cos(\\theta_1/2)/5)*k"
      ]
     },
     "execution_count": 16,
     "metadata": {},
     "output_type": "execute_result"
    }
   ],
   "source": [
    "v2_in_a = qtransform(v2_in_b, r21)\n",
    "v2_in_a\n",
    "\n",
    "#v2_in_a = qtransform(v2_in_b, unit21)\n",
    "#v2_in_a"
   ]
  },
  {
   "cell_type": "code",
   "execution_count": 17,
   "id": "ec329066-5793-4ce1-9485-09f1cf2d34ab",
   "metadata": {},
   "outputs": [
    {
     "data": {
      "text/latex": [
       "$\\displaystyle 0 + \\left(- \\frac{4836 \\cos{\\left(\\theta_{1} \\right)}}{7685} + \\frac{1248 \\cos{\\left(\\theta_{2} \\right)}}{7685} - \\frac{912 \\cos{\\left(\\theta_{3} \\right)}}{1537} - \\frac{144 \\sqrt{530} \\cos{\\left(\\theta_{1} - \\theta_{2} \\right)}}{7685} + \\frac{2736 \\cos{\\left(\\theta_{1} - \\theta_{2} \\right)}}{7685} + \\frac{2736 \\cos{\\left(\\theta_{1} + \\theta_{2} \\right)}}{7685} + \\frac{144 \\sqrt{530} \\cos{\\left(\\theta_{1} + \\theta_{2} \\right)}}{7685} + \\frac{936 \\cos{\\left(\\theta_{1} - \\theta_{3} \\right)}}{1537} + \\frac{936 \\cos{\\left(\\theta_{1} + \\theta_{3} \\right)}}{1537} - \\frac{13 \\sqrt{1537} \\cos{\\left(\\theta_{2} - \\theta_{3} \\right)}}{1537} + \\frac{403 \\cos{\\left(\\theta_{2} - \\theta_{3} \\right)}}{1537} + \\frac{403 \\cos{\\left(\\theta_{2} + \\theta_{3} \\right)}}{1537} + \\frac{13 \\sqrt{1537} \\cos{\\left(\\theta_{2} + \\theta_{3} \\right)}}{1537} - \\frac{3 \\sqrt{290} \\cos{\\left(- \\theta_{1} + \\theta_{2} + \\theta_{3} \\right)}}{58} - \\frac{93 \\sqrt{530} \\cos{\\left(- \\theta_{1} + \\theta_{2} + \\theta_{3} \\right)}}{3074} + \\frac{1767 \\cos{\\left(- \\theta_{1} + \\theta_{2} + \\theta_{3} \\right)}}{3074} + \\frac{57 \\sqrt{1537} \\cos{\\left(- \\theta_{1} + \\theta_{2} + \\theta_{3} \\right)}}{3074} - \\frac{57 \\sqrt{1537} \\cos{\\left(\\theta_{1} - \\theta_{2} + \\theta_{3} \\right)}}{3074} - \\frac{93 \\sqrt{530} \\cos{\\left(\\theta_{1} - \\theta_{2} + \\theta_{3} \\right)}}{3074} + \\frac{1767 \\cos{\\left(\\theta_{1} - \\theta_{2} + \\theta_{3} \\right)}}{3074} + \\frac{3 \\sqrt{290} \\cos{\\left(\\theta_{1} - \\theta_{2} + \\theta_{3} \\right)}}{58} - \\frac{3 \\sqrt{290} \\cos{\\left(\\theta_{1} + \\theta_{2} - \\theta_{3} \\right)}}{58} - \\frac{57 \\sqrt{1537} \\cos{\\left(\\theta_{1} + \\theta_{2} - \\theta_{3} \\right)}}{3074} + \\frac{1767 \\cos{\\left(\\theta_{1} + \\theta_{2} - \\theta_{3} \\right)}}{3074} + \\frac{93 \\sqrt{530} \\cos{\\left(\\theta_{1} + \\theta_{2} - \\theta_{3} \\right)}}{3074} + \\frac{1767 \\cos{\\left(\\theta_{1} + \\theta_{2} + \\theta_{3} \\right)}}{3074} + \\frac{93 \\sqrt{530} \\cos{\\left(\\theta_{1} + \\theta_{2} + \\theta_{3} \\right)}}{3074} + \\frac{57 \\sqrt{1537} \\cos{\\left(\\theta_{1} + \\theta_{2} + \\theta_{3} \\right)}}{3074} + \\frac{3 \\sqrt{290} \\cos{\\left(\\theta_{1} + \\theta_{2} + \\theta_{3} \\right)}}{58} + \\frac{2356}{7685}\\right) i + \\left(- \\frac{62 \\sqrt{530} \\sin{\\left(\\theta_{1} \\right)} \\sin{\\left(\\theta_{2} \\right)} \\cos{\\left(\\theta_{3} \\right)}}{1537} - \\frac{96 \\sqrt{530} \\sin{\\left(\\theta_{1} \\right)} \\sin{\\left(\\theta_{2} \\right)}}{7685} - \\frac{2 \\sqrt{290} \\sin{\\left(\\theta_{1} \\right)} \\sin{\\left(\\theta_{3} \\right)} \\cos{\\left(\\theta_{2} \\right)}}{29} - \\frac{38 \\sqrt{1537} \\sin{\\left(\\theta_{2} \\right)} \\sin{\\left(\\theta_{3} \\right)} \\cos{\\left(\\theta_{1} \\right)}}{1537} + \\frac{78 \\sqrt{1537} \\sin{\\left(\\theta_{2} \\right)} \\sin{\\left(\\theta_{3} \\right)}}{1537} + \\frac{1178 \\cos{\\left(\\theta_{1} \\right)} \\cos{\\left(\\theta_{2} \\right)} \\cos{\\left(\\theta_{3} \\right)}}{1537} + \\frac{1824 \\cos{\\left(\\theta_{1} \\right)} \\cos{\\left(\\theta_{2} \\right)}}{7685} + \\frac{624 \\cos{\\left(\\theta_{1} \\right)} \\cos{\\left(\\theta_{3} \\right)}}{1537} - \\frac{1612 \\cos{\\left(\\theta_{1} \\right)}}{7685} - \\frac{2418 \\cos{\\left(\\theta_{2} \\right)} \\cos{\\left(\\theta_{3} \\right)}}{1537} - \\frac{3744 \\cos{\\left(\\theta_{2} \\right)}}{7685} + \\frac{2736 \\cos{\\left(\\theta_{3} \\right)}}{1537} - \\frac{7068}{7685}\\right) j + \\left(- \\frac{160 \\sqrt{29} \\sin^{2}{\\left(\\frac{\\theta_{1}}{2} \\right)} \\sin^{2}{\\left(\\frac{\\theta_{2}}{2} \\right)} \\sin{\\left(\\frac{\\theta_{3}}{2} \\right)} \\cos{\\left(\\frac{\\theta_{3}}{2} \\right)}}{29} - \\frac{4960 \\sqrt{53} \\sin^{2}{\\left(\\frac{\\theta_{1}}{2} \\right)} \\sin{\\left(\\frac{\\theta_{2}}{2} \\right)} \\sin^{2}{\\left(\\frac{\\theta_{3}}{2} \\right)} \\cos{\\left(\\frac{\\theta_{2}}{2} \\right)}}{1537} + \\frac{112 \\sqrt{53} \\sin^{2}{\\left(\\frac{\\theta_{1}}{2} \\right)} \\sin{\\left(\\frac{\\theta_{2}}{2} \\right)} \\cos{\\left(\\frac{\\theta_{2}}{2} \\right)}}{53} + \\frac{80 \\sqrt{29} \\sin^{2}{\\left(\\frac{\\theta_{1}}{2} \\right)} \\sin{\\left(\\frac{\\theta_{3}}{2} \\right)} \\cos{\\left(\\frac{\\theta_{3}}{2} \\right)}}{29} - \\frac{9424 \\sqrt{10} \\sin{\\left(\\frac{\\theta_{1}}{2} \\right)} \\sin^{2}{\\left(\\frac{\\theta_{2}}{2} \\right)} \\sin^{2}{\\left(\\frac{\\theta_{3}}{2} \\right)} \\cos{\\left(\\frac{\\theta_{1}}{2} \\right)}}{1537} + \\frac{1064 \\sqrt{10} \\sin{\\left(\\frac{\\theta_{1}}{2} \\right)} \\sin^{2}{\\left(\\frac{\\theta_{2}}{2} \\right)} \\cos{\\left(\\frac{\\theta_{1}}{2} \\right)}}{265} + \\frac{136 \\sqrt{10} \\sin{\\left(\\frac{\\theta_{1}}{2} \\right)} \\sin^{2}{\\left(\\frac{\\theta_{3}}{2} \\right)} \\cos{\\left(\\frac{\\theta_{1}}{2} \\right)}}{29} - \\frac{12 \\sqrt{10} \\sin{\\left(\\frac{\\theta_{1}}{2} \\right)} \\cos{\\left(\\frac{\\theta_{1}}{2} \\right)}}{5} + \\frac{38 \\sqrt{15370} \\sin{\\left(\\theta_{1} \\right)} \\sin{\\left(\\theta_{2} \\right)} \\sin{\\left(\\theta_{3} \\right)}}{1537} + \\frac{80 \\sqrt{29} \\sin^{2}{\\left(\\frac{\\theta_{2}}{2} \\right)} \\sin{\\left(\\frac{\\theta_{3}}{2} \\right)} \\cos{\\left(\\frac{\\theta_{3}}{2} \\right)}}{29} + \\frac{2480 \\sqrt{53} \\sin{\\left(\\frac{\\theta_{2}}{2} \\right)} \\sin^{2}{\\left(\\frac{\\theta_{3}}{2} \\right)} \\cos{\\left(\\frac{\\theta_{2}}{2} \\right)}}{1537} - \\frac{56 \\sqrt{53} \\sin{\\left(\\frac{\\theta_{2}}{2} \\right)} \\cos{\\left(\\frac{\\theta_{2}}{2} \\right)}}{53} - \\frac{40 \\sqrt{29} \\sin{\\left(\\frac{\\theta_{3}}{2} \\right)} \\cos{\\left(\\frac{\\theta_{3}}{2} \\right)}}{29}\\right) k$"
      ],
      "text/plain": [
       "0 + (-4836*cos(\\theta_1)/7685 + 1248*cos(\\theta_2)/7685 - 912*cos(\\theta_3)/1537 - 144*sqrt(530)*cos(\\theta_1 - \\theta_2)/7685 + 2736*cos(\\theta_1 - \\theta_2)/7685 + 2736*cos(\\theta_1 + \\theta_2)/7685 + 144*sqrt(530)*cos(\\theta_1 + \\theta_2)/7685 + 936*cos(\\theta_1 - \\theta_3)/1537 + 936*cos(\\theta_1 + \\theta_3)/1537 - 13*sqrt(1537)*cos(\\theta_2 - \\theta_3)/1537 + 403*cos(\\theta_2 - \\theta_3)/1537 + 403*cos(\\theta_2 + \\theta_3)/1537 + 13*sqrt(1537)*cos(\\theta_2 + \\theta_3)/1537 - 3*sqrt(290)*cos(-\\theta_1 + \\theta_2 + \\theta_3)/58 - 93*sqrt(530)*cos(-\\theta_1 + \\theta_2 + \\theta_3)/3074 + 1767*cos(-\\theta_1 + \\theta_2 + \\theta_3)/3074 + 57*sqrt(1537)*cos(-\\theta_1 + \\theta_2 + \\theta_3)/3074 - 57*sqrt(1537)*cos(\\theta_1 - \\theta_2 + \\theta_3)/3074 - 93*sqrt(530)*cos(\\theta_1 - \\theta_2 + \\theta_3)/3074 + 1767*cos(\\theta_1 - \\theta_2 + \\theta_3)/3074 + 3*sqrt(290)*cos(\\theta_1 - \\theta_2 + \\theta_3)/58 - 3*sqrt(290)*cos(\\theta_1 + \\theta_2 - \\theta_3)/58 - 57*sqrt(1537)*cos(\\theta_1 + \\theta_2 - \\theta_3)/3074 + 1767*cos(\\theta_1 + \\theta_2 - \\theta_3)/3074 + 93*sqrt(530)*cos(\\theta_1 + \\theta_2 - \\theta_3)/3074 + 1767*cos(\\theta_1 + \\theta_2 + \\theta_3)/3074 + 93*sqrt(530)*cos(\\theta_1 + \\theta_2 + \\theta_3)/3074 + 57*sqrt(1537)*cos(\\theta_1 + \\theta_2 + \\theta_3)/3074 + 3*sqrt(290)*cos(\\theta_1 + \\theta_2 + \\theta_3)/58 + 2356/7685)*i + (-62*sqrt(530)*sin(\\theta_1)*sin(\\theta_2)*cos(\\theta_3)/1537 - 96*sqrt(530)*sin(\\theta_1)*sin(\\theta_2)/7685 - 2*sqrt(290)*sin(\\theta_1)*sin(\\theta_3)*cos(\\theta_2)/29 - 38*sqrt(1537)*sin(\\theta_2)*sin(\\theta_3)*cos(\\theta_1)/1537 + 78*sqrt(1537)*sin(\\theta_2)*sin(\\theta_3)/1537 + 1178*cos(\\theta_1)*cos(\\theta_2)*cos(\\theta_3)/1537 + 1824*cos(\\theta_1)*cos(\\theta_2)/7685 + 624*cos(\\theta_1)*cos(\\theta_3)/1537 - 1612*cos(\\theta_1)/7685 - 2418*cos(\\theta_2)*cos(\\theta_3)/1537 - 3744*cos(\\theta_2)/7685 + 2736*cos(\\theta_3)/1537 - 7068/7685)*j + (-160*sqrt(29)*sin(\\theta_1/2)**2*sin(\\theta_2/2)**2*sin(\\theta_3/2)*cos(\\theta_3/2)/29 - 4960*sqrt(53)*sin(\\theta_1/2)**2*sin(\\theta_2/2)*sin(\\theta_3/2)**2*cos(\\theta_2/2)/1537 + 112*sqrt(53)*sin(\\theta_1/2)**2*sin(\\theta_2/2)*cos(\\theta_2/2)/53 + 80*sqrt(29)*sin(\\theta_1/2)**2*sin(\\theta_3/2)*cos(\\theta_3/2)/29 - 9424*sqrt(10)*sin(\\theta_1/2)*sin(\\theta_2/2)**2*sin(\\theta_3/2)**2*cos(\\theta_1/2)/1537 + 1064*sqrt(10)*sin(\\theta_1/2)*sin(\\theta_2/2)**2*cos(\\theta_1/2)/265 + 136*sqrt(10)*sin(\\theta_1/2)*sin(\\theta_3/2)**2*cos(\\theta_1/2)/29 - 12*sqrt(10)*sin(\\theta_1/2)*cos(\\theta_1/2)/5 + 38*sqrt(15370)*sin(\\theta_1)*sin(\\theta_2)*sin(\\theta_3)/1537 + 80*sqrt(29)*sin(\\theta_2/2)**2*sin(\\theta_3/2)*cos(\\theta_3/2)/29 + 2480*sqrt(53)*sin(\\theta_2/2)*sin(\\theta_3/2)**2*cos(\\theta_2/2)/1537 - 56*sqrt(53)*sin(\\theta_2/2)*cos(\\theta_2/2)/53 - 40*sqrt(29)*sin(\\theta_3/2)*cos(\\theta_3/2)/29)*k"
      ]
     },
     "execution_count": 17,
     "metadata": {},
     "output_type": "execute_result"
    }
   ],
   "source": [
    "v3_in_b = qtransform(v3_in_c, r35)\n",
    "v3_in_b = qtransform(v3_in_b, r25)\n",
    "v3_in_a = qtransform(v3_in_b, r21)\n",
    "v3_in_a = v3_in_a.simplify()\n",
    "v3_in_a\n",
    "\n",
    "#v3_in_b = qtransform(v3_in_c, unit35)\n",
    "#v3_in_b = qtransform(v3_in_b, unit25)\n",
    "#v3_in_a = qtransform(v3_in_b, unit21)\n",
    "#v3_in_a"
   ]
  },
  {
   "cell_type": "code",
   "execution_count": 18,
   "id": "58bd43b2-8df8-4273-a289-f0f84a449e2a",
   "metadata": {},
   "outputs": [
    {
     "data": {
      "text/plain": [
       "(3, 1)"
      ]
     },
     "execution_count": 18,
     "metadata": {},
     "output_type": "execute_result"
    }
   ],
   "source": [
    "r = v1_in_a + v2_in_a + v3_in_a\n",
    "r = r.simplify()\n",
    "rvec = sympy.Matrix([r.b, r.c, r.d])\n",
    "rvec.shape"
   ]
  },
  {
   "cell_type": "markdown",
   "id": "13070771-0bad-4a99-9053-baac27038226",
   "metadata": {},
   "source": [
    "#### $r'$ in using $\\vec{v4},\\vec{v5},\\vec{v6}$"
   ]
  },
  {
   "cell_type": "code",
   "execution_count": 19,
   "id": "9f1fbdf2-c578-422b-a983-3f1afb5adb03",
   "metadata": {},
   "outputs": [
    {
     "data": {
      "text/latex": [
       "$\\displaystyle 0 + 5 i + \\left(-1\\right) j + 0 k$"
      ],
      "text/plain": [
       "0 + 5*i + (-1)*j + 0*k"
      ]
     },
     "execution_count": 19,
     "metadata": {},
     "output_type": "execute_result"
    }
   ],
   "source": [
    "v4_in_a"
   ]
  },
  {
   "cell_type": "code",
   "execution_count": 20,
   "id": "e6d8d7f4-3d86-4f33-97f1-83e95b893825",
   "metadata": {},
   "outputs": [
    {
     "data": {
      "text/latex": [
       "$\\displaystyle \\left(\\frac{\\sqrt{10} \\left(- \\left(- \\frac{124 \\sin^{2}{\\left(\\frac{\\theta_{2}}{2} \\right)}}{53} + 4 \\cos^{2}{\\left(\\frac{\\theta_{2}}{2} \\right)}\\right) \\cos{\\left(\\frac{\\theta_{1}}{2} \\right)} + \\frac{72 \\sqrt{530} \\sin{\\left(\\frac{\\theta_{1}}{2} \\right)} \\sin{\\left(\\frac{\\theta_{2}}{2} \\right)} \\cos{\\left(\\frac{\\theta_{2}}{2} \\right)}}{265}\\right) \\sin{\\left(\\frac{\\theta_{1}}{2} \\right)}}{10} + \\frac{3 \\sqrt{10} \\left(\\left(\\frac{202 \\sin^{2}{\\left(\\frac{\\theta_{2}}{2} \\right)}}{53} + 2 \\cos^{2}{\\left(\\frac{\\theta_{2}}{2} \\right)}\\right) \\cos{\\left(\\frac{\\theta_{1}}{2} \\right)} - \\frac{24 \\sqrt{530} \\sin{\\left(\\frac{\\theta_{1}}{2} \\right)} \\sin{\\left(\\frac{\\theta_{2}}{2} \\right)} \\cos{\\left(\\frac{\\theta_{2}}{2} \\right)}}{265}\\right) \\sin{\\left(\\frac{\\theta_{1}}{2} \\right)}}{10} + \\left(\\frac{\\sqrt{10} \\left(- \\frac{124 \\sin^{2}{\\left(\\frac{\\theta_{2}}{2} \\right)}}{53} + 4 \\cos^{2}{\\left(\\frac{\\theta_{2}}{2} \\right)}\\right) \\sin{\\left(\\frac{\\theta_{1}}{2} \\right)}}{10} - \\frac{3 \\sqrt{10} \\left(\\frac{202 \\sin^{2}{\\left(\\frac{\\theta_{2}}{2} \\right)}}{53} + 2 \\cos^{2}{\\left(\\frac{\\theta_{2}}{2} \\right)}\\right) \\sin{\\left(\\frac{\\theta_{1}}{2} \\right)}}{10}\\right) \\cos{\\left(\\frac{\\theta_{1}}{2} \\right)}\\right) + \\left(\\left(\\left(- \\frac{124 \\sin^{2}{\\left(\\frac{\\theta_{2}}{2} \\right)}}{53} + 4 \\cos^{2}{\\left(\\frac{\\theta_{2}}{2} \\right)}\\right) \\cos{\\left(\\frac{\\theta_{1}}{2} \\right)} - \\frac{72 \\sqrt{530} \\sin{\\left(\\frac{\\theta_{1}}{2} \\right)} \\sin{\\left(\\frac{\\theta_{2}}{2} \\right)} \\cos{\\left(\\frac{\\theta_{2}}{2} \\right)}}{265}\\right) \\cos{\\left(\\frac{\\theta_{1}}{2} \\right)} + \\frac{\\sqrt{10} \\left(\\frac{\\sqrt{10} \\left(- \\frac{124 \\sin^{2}{\\left(\\frac{\\theta_{2}}{2} \\right)}}{53} + 4 \\cos^{2}{\\left(\\frac{\\theta_{2}}{2} \\right)}\\right) \\sin{\\left(\\frac{\\theta_{1}}{2} \\right)}}{10} - \\frac{3 \\sqrt{10} \\left(\\frac{202 \\sin^{2}{\\left(\\frac{\\theta_{2}}{2} \\right)}}{53} + 2 \\cos^{2}{\\left(\\frac{\\theta_{2}}{2} \\right)}\\right) \\sin{\\left(\\frac{\\theta_{1}}{2} \\right)}}{10}\\right) \\sin{\\left(\\frac{\\theta_{1}}{2} \\right)}}{10} + \\frac{3 \\sqrt{10} \\left(- \\frac{3 \\sqrt{10} \\left(- \\frac{124 \\sin^{2}{\\left(\\frac{\\theta_{2}}{2} \\right)}}{53} + 4 \\cos^{2}{\\left(\\frac{\\theta_{2}}{2} \\right)}\\right) \\sin{\\left(\\frac{\\theta_{1}}{2} \\right)}}{10} - \\frac{\\sqrt{10} \\left(\\frac{202 \\sin^{2}{\\left(\\frac{\\theta_{2}}{2} \\right)}}{53} + 2 \\cos^{2}{\\left(\\frac{\\theta_{2}}{2} \\right)}\\right) \\sin{\\left(\\frac{\\theta_{1}}{2} \\right)}}{10} - \\frac{48 \\sqrt{53} \\sin{\\left(\\frac{\\theta_{2}}{2} \\right)} \\cos{\\left(\\frac{\\theta_{1}}{2} \\right)} \\cos{\\left(\\frac{\\theta_{2}}{2} \\right)}}{53}\\right) \\sin{\\left(\\frac{\\theta_{1}}{2} \\right)}}{10}\\right) i + \\left(\\left(\\left(\\frac{202 \\sin^{2}{\\left(\\frac{\\theta_{2}}{2} \\right)}}{53} + 2 \\cos^{2}{\\left(\\frac{\\theta_{2}}{2} \\right)}\\right) \\cos{\\left(\\frac{\\theta_{1}}{2} \\right)} - \\frac{24 \\sqrt{530} \\sin{\\left(\\frac{\\theta_{1}}{2} \\right)} \\sin{\\left(\\frac{\\theta_{2}}{2} \\right)} \\cos{\\left(\\frac{\\theta_{2}}{2} \\right)}}{265}\\right) \\cos{\\left(\\frac{\\theta_{1}}{2} \\right)} - \\frac{3 \\sqrt{10} \\left(\\frac{\\sqrt{10} \\left(- \\frac{124 \\sin^{2}{\\left(\\frac{\\theta_{2}}{2} \\right)}}{53} + 4 \\cos^{2}{\\left(\\frac{\\theta_{2}}{2} \\right)}\\right) \\sin{\\left(\\frac{\\theta_{1}}{2} \\right)}}{10} - \\frac{3 \\sqrt{10} \\left(\\frac{202 \\sin^{2}{\\left(\\frac{\\theta_{2}}{2} \\right)}}{53} + 2 \\cos^{2}{\\left(\\frac{\\theta_{2}}{2} \\right)}\\right) \\sin{\\left(\\frac{\\theta_{1}}{2} \\right)}}{10}\\right) \\sin{\\left(\\frac{\\theta_{1}}{2} \\right)}}{10} + \\frac{\\sqrt{10} \\left(- \\frac{3 \\sqrt{10} \\left(- \\frac{124 \\sin^{2}{\\left(\\frac{\\theta_{2}}{2} \\right)}}{53} + 4 \\cos^{2}{\\left(\\frac{\\theta_{2}}{2} \\right)}\\right) \\sin{\\left(\\frac{\\theta_{1}}{2} \\right)}}{10} - \\frac{\\sqrt{10} \\left(\\frac{202 \\sin^{2}{\\left(\\frac{\\theta_{2}}{2} \\right)}}{53} + 2 \\cos^{2}{\\left(\\frac{\\theta_{2}}{2} \\right)}\\right) \\sin{\\left(\\frac{\\theta_{1}}{2} \\right)}}{10} - \\frac{48 \\sqrt{53} \\sin{\\left(\\frac{\\theta_{2}}{2} \\right)} \\cos{\\left(\\frac{\\theta_{1}}{2} \\right)} \\cos{\\left(\\frac{\\theta_{2}}{2} \\right)}}{53}\\right) \\sin{\\left(\\frac{\\theta_{1}}{2} \\right)}}{10}\\right) j + \\left(- \\frac{3 \\sqrt{10} \\left(\\left(- \\frac{124 \\sin^{2}{\\left(\\frac{\\theta_{2}}{2} \\right)}}{53} + 4 \\cos^{2}{\\left(\\frac{\\theta_{2}}{2} \\right)}\\right) \\cos{\\left(\\frac{\\theta_{1}}{2} \\right)} - \\frac{72 \\sqrt{530} \\sin{\\left(\\frac{\\theta_{1}}{2} \\right)} \\sin{\\left(\\frac{\\theta_{2}}{2} \\right)} \\cos{\\left(\\frac{\\theta_{2}}{2} \\right)}}{265}\\right) \\sin{\\left(\\frac{\\theta_{1}}{2} \\right)}}{10} - \\frac{\\sqrt{10} \\left(\\left(\\frac{202 \\sin^{2}{\\left(\\frac{\\theta_{2}}{2} \\right)}}{53} + 2 \\cos^{2}{\\left(\\frac{\\theta_{2}}{2} \\right)}\\right) \\cos{\\left(\\frac{\\theta_{1}}{2} \\right)} - \\frac{24 \\sqrt{530} \\sin{\\left(\\frac{\\theta_{1}}{2} \\right)} \\sin{\\left(\\frac{\\theta_{2}}{2} \\right)} \\cos{\\left(\\frac{\\theta_{2}}{2} \\right)}}{265}\\right) \\sin{\\left(\\frac{\\theta_{1}}{2} \\right)}}{10} + \\left(- \\frac{3 \\sqrt{10} \\left(- \\frac{124 \\sin^{2}{\\left(\\frac{\\theta_{2}}{2} \\right)}}{53} + 4 \\cos^{2}{\\left(\\frac{\\theta_{2}}{2} \\right)}\\right) \\sin{\\left(\\frac{\\theta_{1}}{2} \\right)}}{10} - \\frac{\\sqrt{10} \\left(\\frac{202 \\sin^{2}{\\left(\\frac{\\theta_{2}}{2} \\right)}}{53} + 2 \\cos^{2}{\\left(\\frac{\\theta_{2}}{2} \\right)}\\right) \\sin{\\left(\\frac{\\theta_{1}}{2} \\right)}}{10} - \\frac{48 \\sqrt{53} \\sin{\\left(\\frac{\\theta_{2}}{2} \\right)} \\cos{\\left(\\frac{\\theta_{1}}{2} \\right)} \\cos{\\left(\\frac{\\theta_{2}}{2} \\right)}}{53}\\right) \\cos{\\left(\\frac{\\theta_{1}}{2} \\right)}\\right) k$"
      ],
      "text/plain": [
       "(sqrt(10)*(-(-124*sin(\\theta_2/2)**2/53 + 4*cos(\\theta_2/2)**2)*cos(\\theta_1/2) + 72*sqrt(530)*sin(\\theta_1/2)*sin(\\theta_2/2)*cos(\\theta_2/2)/265)*sin(\\theta_1/2)/10 + 3*sqrt(10)*((202*sin(\\theta_2/2)**2/53 + 2*cos(\\theta_2/2)**2)*cos(\\theta_1/2) - 24*sqrt(530)*sin(\\theta_1/2)*sin(\\theta_2/2)*cos(\\theta_2/2)/265)*sin(\\theta_1/2)/10 + (sqrt(10)*(-124*sin(\\theta_2/2)**2/53 + 4*cos(\\theta_2/2)**2)*sin(\\theta_1/2)/10 - 3*sqrt(10)*(202*sin(\\theta_2/2)**2/53 + 2*cos(\\theta_2/2)**2)*sin(\\theta_1/2)/10)*cos(\\theta_1/2)) + (((-124*sin(\\theta_2/2)**2/53 + 4*cos(\\theta_2/2)**2)*cos(\\theta_1/2) - 72*sqrt(530)*sin(\\theta_1/2)*sin(\\theta_2/2)*cos(\\theta_2/2)/265)*cos(\\theta_1/2) + sqrt(10)*(sqrt(10)*(-124*sin(\\theta_2/2)**2/53 + 4*cos(\\theta_2/2)**2)*sin(\\theta_1/2)/10 - 3*sqrt(10)*(202*sin(\\theta_2/2)**2/53 + 2*cos(\\theta_2/2)**2)*sin(\\theta_1/2)/10)*sin(\\theta_1/2)/10 + 3*sqrt(10)*(-3*sqrt(10)*(-124*sin(\\theta_2/2)**2/53 + 4*cos(\\theta_2/2)**2)*sin(\\theta_1/2)/10 - sqrt(10)*(202*sin(\\theta_2/2)**2/53 + 2*cos(\\theta_2/2)**2)*sin(\\theta_1/2)/10 - 48*sqrt(53)*sin(\\theta_2/2)*cos(\\theta_1/2)*cos(\\theta_2/2)/53)*sin(\\theta_1/2)/10)*i + (((202*sin(\\theta_2/2)**2/53 + 2*cos(\\theta_2/2)**2)*cos(\\theta_1/2) - 24*sqrt(530)*sin(\\theta_1/2)*sin(\\theta_2/2)*cos(\\theta_2/2)/265)*cos(\\theta_1/2) - 3*sqrt(10)*(sqrt(10)*(-124*sin(\\theta_2/2)**2/53 + 4*cos(\\theta_2/2)**2)*sin(\\theta_1/2)/10 - 3*sqrt(10)*(202*sin(\\theta_2/2)**2/53 + 2*cos(\\theta_2/2)**2)*sin(\\theta_1/2)/10)*sin(\\theta_1/2)/10 + sqrt(10)*(-3*sqrt(10)*(-124*sin(\\theta_2/2)**2/53 + 4*cos(\\theta_2/2)**2)*sin(\\theta_1/2)/10 - sqrt(10)*(202*sin(\\theta_2/2)**2/53 + 2*cos(\\theta_2/2)**2)*sin(\\theta_1/2)/10 - 48*sqrt(53)*sin(\\theta_2/2)*cos(\\theta_1/2)*cos(\\theta_2/2)/53)*sin(\\theta_1/2)/10)*j + (-3*sqrt(10)*((-124*sin(\\theta_2/2)**2/53 + 4*cos(\\theta_2/2)**2)*cos(\\theta_1/2) - 72*sqrt(530)*sin(\\theta_1/2)*sin(\\theta_2/2)*cos(\\theta_2/2)/265)*sin(\\theta_1/2)/10 - sqrt(10)*((202*sin(\\theta_2/2)**2/53 + 2*cos(\\theta_2/2)**2)*cos(\\theta_1/2) - 24*sqrt(530)*sin(\\theta_1/2)*sin(\\theta_2/2)*cos(\\theta_2/2)/265)*sin(\\theta_1/2)/10 + (-3*sqrt(10)*(-124*sin(\\theta_2/2)**2/53 + 4*cos(\\theta_2/2)**2)*sin(\\theta_1/2)/10 - sqrt(10)*(202*sin(\\theta_2/2)**2/53 + 2*cos(\\theta_2/2)**2)*sin(\\theta_1/2)/10 - 48*sqrt(53)*sin(\\theta_2/2)*cos(\\theta_1/2)*cos(\\theta_2/2)/53)*cos(\\theta_1/2))*k"
      ]
     },
     "execution_count": 20,
     "metadata": {},
     "output_type": "execute_result"
    }
   ],
   "source": [
    "v5_in_a = qtransform(v5_in_b, r25)\n",
    "v5_in_a = qtransform(v5_in_a, r21)\n",
    "v5_in_a"
   ]
  },
  {
   "cell_type": "code",
   "execution_count": 21,
   "id": "b9c9a71b-84e5-46e1-b94c-3d78481b6958",
   "metadata": {},
   "outputs": [
    {
     "data": {
      "text/latex": [
       "$\\displaystyle 0 + \\left(\\frac{25389 \\cos{\\left(\\theta_{1} \\right)}}{15370} - \\frac{3276 \\cos{\\left(\\theta_{2} \\right)}}{7685} - \\frac{912 \\cos{\\left(\\theta_{3} \\right)}}{1537} - \\frac{7182 \\cos{\\left(\\theta_{1} - \\theta_{2} \\right)}}{7685} + \\frac{378 \\sqrt{530} \\cos{\\left(\\theta_{1} - \\theta_{2} \\right)}}{7685} - \\frac{378 \\sqrt{530} \\cos{\\left(\\theta_{1} + \\theta_{2} \\right)}}{7685} - \\frac{7182 \\cos{\\left(\\theta_{1} + \\theta_{2} \\right)}}{7685} + \\frac{936 \\cos{\\left(\\theta_{1} - \\theta_{3} \\right)}}{1537} + \\frac{936 \\cos{\\left(\\theta_{1} + \\theta_{3} \\right)}}{1537} - \\frac{13 \\sqrt{1537} \\cos{\\left(\\theta_{2} - \\theta_{3} \\right)}}{1537} + \\frac{403 \\cos{\\left(\\theta_{2} - \\theta_{3} \\right)}}{1537} + \\frac{403 \\cos{\\left(\\theta_{2} + \\theta_{3} \\right)}}{1537} + \\frac{13 \\sqrt{1537} \\cos{\\left(\\theta_{2} + \\theta_{3} \\right)}}{1537} - \\frac{3 \\sqrt{290} \\cos{\\left(- \\theta_{1} + \\theta_{2} + \\theta_{3} \\right)}}{58} - \\frac{93 \\sqrt{530} \\cos{\\left(- \\theta_{1} + \\theta_{2} + \\theta_{3} \\right)}}{3074} + \\frac{1767 \\cos{\\left(- \\theta_{1} + \\theta_{2} + \\theta_{3} \\right)}}{3074} + \\frac{57 \\sqrt{1537} \\cos{\\left(- \\theta_{1} + \\theta_{2} + \\theta_{3} \\right)}}{3074} - \\frac{57 \\sqrt{1537} \\cos{\\left(\\theta_{1} - \\theta_{2} + \\theta_{3} \\right)}}{3074} - \\frac{93 \\sqrt{530} \\cos{\\left(\\theta_{1} - \\theta_{2} + \\theta_{3} \\right)}}{3074} + \\frac{1767 \\cos{\\left(\\theta_{1} - \\theta_{2} + \\theta_{3} \\right)}}{3074} + \\frac{3 \\sqrt{290} \\cos{\\left(\\theta_{1} - \\theta_{2} + \\theta_{3} \\right)}}{58} - \\frac{3 \\sqrt{290} \\cos{\\left(\\theta_{1} + \\theta_{2} - \\theta_{3} \\right)}}{58} - \\frac{57 \\sqrt{1537} \\cos{\\left(\\theta_{1} + \\theta_{2} - \\theta_{3} \\right)}}{3074} + \\frac{1767 \\cos{\\left(\\theta_{1} + \\theta_{2} - \\theta_{3} \\right)}}{3074} + \\frac{93 \\sqrt{530} \\cos{\\left(\\theta_{1} + \\theta_{2} - \\theta_{3} \\right)}}{3074} + \\frac{1767 \\cos{\\left(\\theta_{1} + \\theta_{2} + \\theta_{3} \\right)}}{3074} + \\frac{93 \\sqrt{530} \\cos{\\left(\\theta_{1} + \\theta_{2} + \\theta_{3} \\right)}}{3074} + \\frac{57 \\sqrt{1537} \\cos{\\left(\\theta_{1} + \\theta_{2} + \\theta_{3} \\right)}}{3074} + \\frac{3 \\sqrt{290} \\cos{\\left(\\theta_{1} + \\theta_{2} + \\theta_{3} \\right)}}{58} - \\frac{12369}{15370}\\right) i + \\left(\\frac{8463 \\cos{\\left(\\theta_{1} \\right)}}{15370} + \\frac{9828 \\cos{\\left(\\theta_{2} \\right)}}{7685} + \\frac{2736 \\cos{\\left(\\theta_{3} \\right)}}{1537} - \\frac{2394 \\cos{\\left(\\theta_{1} - \\theta_{2} \\right)}}{7685} + \\frac{126 \\sqrt{530} \\cos{\\left(\\theta_{1} - \\theta_{2} \\right)}}{7685} - \\frac{126 \\sqrt{530} \\cos{\\left(\\theta_{1} + \\theta_{2} \\right)}}{7685} - \\frac{2394 \\cos{\\left(\\theta_{1} + \\theta_{2} \\right)}}{7685} + \\frac{312 \\cos{\\left(\\theta_{1} - \\theta_{3} \\right)}}{1537} + \\frac{312 \\cos{\\left(\\theta_{1} + \\theta_{3} \\right)}}{1537} - \\frac{1209 \\cos{\\left(\\theta_{2} - \\theta_{3} \\right)}}{1537} + \\frac{39 \\sqrt{1537} \\cos{\\left(\\theta_{2} - \\theta_{3} \\right)}}{1537} - \\frac{39 \\sqrt{1537} \\cos{\\left(\\theta_{2} + \\theta_{3} \\right)}}{1537} - \\frac{1209 \\cos{\\left(\\theta_{2} + \\theta_{3} \\right)}}{1537} - \\frac{\\sqrt{290} \\cos{\\left(- \\theta_{1} + \\theta_{2} + \\theta_{3} \\right)}}{58} - \\frac{31 \\sqrt{530} \\cos{\\left(- \\theta_{1} + \\theta_{2} + \\theta_{3} \\right)}}{3074} + \\frac{589 \\cos{\\left(- \\theta_{1} + \\theta_{2} + \\theta_{3} \\right)}}{3074} + \\frac{19 \\sqrt{1537} \\cos{\\left(- \\theta_{1} + \\theta_{2} + \\theta_{3} \\right)}}{3074} - \\frac{19 \\sqrt{1537} \\cos{\\left(\\theta_{1} - \\theta_{2} + \\theta_{3} \\right)}}{3074} - \\frac{31 \\sqrt{530} \\cos{\\left(\\theta_{1} - \\theta_{2} + \\theta_{3} \\right)}}{3074} + \\frac{589 \\cos{\\left(\\theta_{1} - \\theta_{2} + \\theta_{3} \\right)}}{3074} + \\frac{\\sqrt{290} \\cos{\\left(\\theta_{1} - \\theta_{2} + \\theta_{3} \\right)}}{58} - \\frac{\\sqrt{290} \\cos{\\left(\\theta_{1} + \\theta_{2} - \\theta_{3} \\right)}}{58} - \\frac{19 \\sqrt{1537} \\cos{\\left(\\theta_{1} + \\theta_{2} - \\theta_{3} \\right)}}{3074} + \\frac{589 \\cos{\\left(\\theta_{1} + \\theta_{2} - \\theta_{3} \\right)}}{3074} + \\frac{31 \\sqrt{530} \\cos{\\left(\\theta_{1} + \\theta_{2} - \\theta_{3} \\right)}}{3074} + \\frac{589 \\cos{\\left(\\theta_{1} + \\theta_{2} + \\theta_{3} \\right)}}{3074} + \\frac{31 \\sqrt{530} \\cos{\\left(\\theta_{1} + \\theta_{2} + \\theta_{3} \\right)}}{3074} + \\frac{19 \\sqrt{1537} \\cos{\\left(\\theta_{1} + \\theta_{2} + \\theta_{3} \\right)}}{3074} + \\frac{\\sqrt{290} \\cos{\\left(\\theta_{1} + \\theta_{2} + \\theta_{3} \\right)}}{58} + \\frac{37107}{15370}\\right) j + \\left(- \\frac{160 \\sqrt{29} \\sin^{2}{\\left(\\frac{\\theta_{1}}{2} \\right)} \\sin^{2}{\\left(\\frac{\\theta_{2}}{2} \\right)} \\sin{\\left(\\frac{\\theta_{3}}{2} \\right)} \\cos{\\left(\\frac{\\theta_{3}}{2} \\right)}}{29} - \\frac{4960 \\sqrt{53} \\sin^{2}{\\left(\\frac{\\theta_{1}}{2} \\right)} \\sin{\\left(\\frac{\\theta_{2}}{2} \\right)} \\sin^{2}{\\left(\\frac{\\theta_{3}}{2} \\right)} \\cos{\\left(\\frac{\\theta_{2}}{2} \\right)}}{1537} + \\frac{16 \\sqrt{53} \\sin^{2}{\\left(\\frac{\\theta_{1}}{2} \\right)} \\sin{\\left(\\frac{\\theta_{2}}{2} \\right)} \\cos{\\left(\\frac{\\theta_{2}}{2} \\right)}}{53} + \\frac{80 \\sqrt{29} \\sin^{2}{\\left(\\frac{\\theta_{1}}{2} \\right)} \\sin{\\left(\\frac{\\theta_{3}}{2} \\right)} \\cos{\\left(\\frac{\\theta_{3}}{2} \\right)}}{29} - \\frac{9424 \\sqrt{10} \\sin{\\left(\\frac{\\theta_{1}}{2} \\right)} \\sin^{2}{\\left(\\frac{\\theta_{2}}{2} \\right)} \\sin^{2}{\\left(\\frac{\\theta_{3}}{2} \\right)} \\cos{\\left(\\frac{\\theta_{1}}{2} \\right)}}{1537} + \\frac{152 \\sqrt{10} \\sin{\\left(\\frac{\\theta_{1}}{2} \\right)} \\sin^{2}{\\left(\\frac{\\theta_{2}}{2} \\right)} \\cos{\\left(\\frac{\\theta_{1}}{2} \\right)}}{265} + \\frac{136 \\sqrt{10} \\sin{\\left(\\frac{\\theta_{1}}{2} \\right)} \\sin^{2}{\\left(\\frac{\\theta_{3}}{2} \\right)} \\cos{\\left(\\frac{\\theta_{1}}{2} \\right)}}{29} - \\frac{11 \\sqrt{10} \\sin{\\left(\\frac{\\theta_{1}}{2} \\right)} \\cos{\\left(\\frac{\\theta_{1}}{2} \\right)}}{5} + \\frac{38 \\sqrt{15370} \\sin{\\left(\\theta_{1} \\right)} \\sin{\\left(\\theta_{2} \\right)} \\sin{\\left(\\theta_{3} \\right)}}{1537} + \\frac{80 \\sqrt{29} \\sin^{2}{\\left(\\frac{\\theta_{2}}{2} \\right)} \\sin{\\left(\\frac{\\theta_{3}}{2} \\right)} \\cos{\\left(\\frac{\\theta_{3}}{2} \\right)}}{29} + \\frac{2480 \\sqrt{53} \\sin{\\left(\\frac{\\theta_{2}}{2} \\right)} \\sin^{2}{\\left(\\frac{\\theta_{3}}{2} \\right)} \\cos{\\left(\\frac{\\theta_{2}}{2} \\right)}}{1537} - \\frac{8 \\sqrt{53} \\sin{\\left(\\frac{\\theta_{2}}{2} \\right)} \\cos{\\left(\\frac{\\theta_{2}}{2} \\right)}}{53} - \\frac{40 \\sqrt{29} \\sin{\\left(\\frac{\\theta_{3}}{2} \\right)} \\cos{\\left(\\frac{\\theta_{3}}{2} \\right)}}{29}\\right) k$"
      ],
      "text/plain": [
       "0 + (25389*cos(\\theta_1)/15370 - 3276*cos(\\theta_2)/7685 - 912*cos(\\theta_3)/1537 - 7182*cos(\\theta_1 - \\theta_2)/7685 + 378*sqrt(530)*cos(\\theta_1 - \\theta_2)/7685 - 378*sqrt(530)*cos(\\theta_1 + \\theta_2)/7685 - 7182*cos(\\theta_1 + \\theta_2)/7685 + 936*cos(\\theta_1 - \\theta_3)/1537 + 936*cos(\\theta_1 + \\theta_3)/1537 - 13*sqrt(1537)*cos(\\theta_2 - \\theta_3)/1537 + 403*cos(\\theta_2 - \\theta_3)/1537 + 403*cos(\\theta_2 + \\theta_3)/1537 + 13*sqrt(1537)*cos(\\theta_2 + \\theta_3)/1537 - 3*sqrt(290)*cos(-\\theta_1 + \\theta_2 + \\theta_3)/58 - 93*sqrt(530)*cos(-\\theta_1 + \\theta_2 + \\theta_3)/3074 + 1767*cos(-\\theta_1 + \\theta_2 + \\theta_3)/3074 + 57*sqrt(1537)*cos(-\\theta_1 + \\theta_2 + \\theta_3)/3074 - 57*sqrt(1537)*cos(\\theta_1 - \\theta_2 + \\theta_3)/3074 - 93*sqrt(530)*cos(\\theta_1 - \\theta_2 + \\theta_3)/3074 + 1767*cos(\\theta_1 - \\theta_2 + \\theta_3)/3074 + 3*sqrt(290)*cos(\\theta_1 - \\theta_2 + \\theta_3)/58 - 3*sqrt(290)*cos(\\theta_1 + \\theta_2 - \\theta_3)/58 - 57*sqrt(1537)*cos(\\theta_1 + \\theta_2 - \\theta_3)/3074 + 1767*cos(\\theta_1 + \\theta_2 - \\theta_3)/3074 + 93*sqrt(530)*cos(\\theta_1 + \\theta_2 - \\theta_3)/3074 + 1767*cos(\\theta_1 + \\theta_2 + \\theta_3)/3074 + 93*sqrt(530)*cos(\\theta_1 + \\theta_2 + \\theta_3)/3074 + 57*sqrt(1537)*cos(\\theta_1 + \\theta_2 + \\theta_3)/3074 + 3*sqrt(290)*cos(\\theta_1 + \\theta_2 + \\theta_3)/58 - 12369/15370)*i + (8463*cos(\\theta_1)/15370 + 9828*cos(\\theta_2)/7685 + 2736*cos(\\theta_3)/1537 - 2394*cos(\\theta_1 - \\theta_2)/7685 + 126*sqrt(530)*cos(\\theta_1 - \\theta_2)/7685 - 126*sqrt(530)*cos(\\theta_1 + \\theta_2)/7685 - 2394*cos(\\theta_1 + \\theta_2)/7685 + 312*cos(\\theta_1 - \\theta_3)/1537 + 312*cos(\\theta_1 + \\theta_3)/1537 - 1209*cos(\\theta_2 - \\theta_3)/1537 + 39*sqrt(1537)*cos(\\theta_2 - \\theta_3)/1537 - 39*sqrt(1537)*cos(\\theta_2 + \\theta_3)/1537 - 1209*cos(\\theta_2 + \\theta_3)/1537 - sqrt(290)*cos(-\\theta_1 + \\theta_2 + \\theta_3)/58 - 31*sqrt(530)*cos(-\\theta_1 + \\theta_2 + \\theta_3)/3074 + 589*cos(-\\theta_1 + \\theta_2 + \\theta_3)/3074 + 19*sqrt(1537)*cos(-\\theta_1 + \\theta_2 + \\theta_3)/3074 - 19*sqrt(1537)*cos(\\theta_1 - \\theta_2 + \\theta_3)/3074 - 31*sqrt(530)*cos(\\theta_1 - \\theta_2 + \\theta_3)/3074 + 589*cos(\\theta_1 - \\theta_2 + \\theta_3)/3074 + sqrt(290)*cos(\\theta_1 - \\theta_2 + \\theta_3)/58 - sqrt(290)*cos(\\theta_1 + \\theta_2 - \\theta_3)/58 - 19*sqrt(1537)*cos(\\theta_1 + \\theta_2 - \\theta_3)/3074 + 589*cos(\\theta_1 + \\theta_2 - \\theta_3)/3074 + 31*sqrt(530)*cos(\\theta_1 + \\theta_2 - \\theta_3)/3074 + 589*cos(\\theta_1 + \\theta_2 + \\theta_3)/3074 + 31*sqrt(530)*cos(\\theta_1 + \\theta_2 + \\theta_3)/3074 + 19*sqrt(1537)*cos(\\theta_1 + \\theta_2 + \\theta_3)/3074 + sqrt(290)*cos(\\theta_1 + \\theta_2 + \\theta_3)/58 + 37107/15370)*j + (-160*sqrt(29)*sin(\\theta_1/2)**2*sin(\\theta_2/2)**2*sin(\\theta_3/2)*cos(\\theta_3/2)/29 - 4960*sqrt(53)*sin(\\theta_1/2)**2*sin(\\theta_2/2)*sin(\\theta_3/2)**2*cos(\\theta_2/2)/1537 + 16*sqrt(53)*sin(\\theta_1/2)**2*sin(\\theta_2/2)*cos(\\theta_2/2)/53 + 80*sqrt(29)*sin(\\theta_1/2)**2*sin(\\theta_3/2)*cos(\\theta_3/2)/29 - 9424*sqrt(10)*sin(\\theta_1/2)*sin(\\theta_2/2)**2*sin(\\theta_3/2)**2*cos(\\theta_1/2)/1537 + 152*sqrt(10)*sin(\\theta_1/2)*sin(\\theta_2/2)**2*cos(\\theta_1/2)/265 + 136*sqrt(10)*sin(\\theta_1/2)*sin(\\theta_3/2)**2*cos(\\theta_1/2)/29 - 11*sqrt(10)*sin(\\theta_1/2)*cos(\\theta_1/2)/5 + 38*sqrt(15370)*sin(\\theta_1)*sin(\\theta_2)*sin(\\theta_3)/1537 + 80*sqrt(29)*sin(\\theta_2/2)**2*sin(\\theta_3/2)*cos(\\theta_3/2)/29 + 2480*sqrt(53)*sin(\\theta_2/2)*sin(\\theta_3/2)**2*cos(\\theta_2/2)/1537 - 8*sqrt(53)*sin(\\theta_2/2)*cos(\\theta_2/2)/53 - 40*sqrt(29)*sin(\\theta_3/2)*cos(\\theta_3/2)/29)*k"
      ]
     },
     "execution_count": 21,
     "metadata": {},
     "output_type": "execute_result"
    }
   ],
   "source": [
    "v6_in_b = qtransform(v6_in_c , r35)\n",
    "v6_in_a = qtransform(v6_in_b , r25)\n",
    "v6_in_a = qtransform(v6_in_a , r21)\n",
    "v6_in_a = v6_in_a.simplify()\n",
    "v6_in_a"
   ]
  },
  {
   "cell_type": "code",
   "execution_count": 22,
   "id": "fff839cd-cc3b-442c-8671-ecfca87ca409",
   "metadata": {},
   "outputs": [
    {
     "data": {
      "text/plain": [
       "(3, 1)"
      ]
     },
     "execution_count": 22,
     "metadata": {},
     "output_type": "execute_result"
    }
   ],
   "source": [
    "r1 = v4_in_a + v5_in_a + v6_in_a\n",
    "r1 = r1.simplify()\n",
    "rvec1 = sympy.Matrix([r1.b, r1.c, r1.d])\n",
    "rvec1.shape"
   ]
  },
  {
   "cell_type": "markdown",
   "id": "86b800cf-b823-45f6-83a6-997e83a8fd69",
   "metadata": {},
   "source": [
    "#### 5. Jacobian"
   ]
  },
  {
   "cell_type": "code",
   "execution_count": 23,
   "id": "360a7a53-f0f0-41bc-9bf4-63fe964f3190",
   "metadata": {},
   "outputs": [
    {
     "data": {
      "text/latex": [
       "$\\displaystyle \\left[\\begin{matrix}- \\frac{39 \\sin{\\left(\\frac{\\theta_{1}}{2} \\right)} \\cos{\\left(\\frac{\\theta_{1}}{2} \\right)}}{5} + \\frac{114 \\sqrt{1537} \\sin{\\left(\\theta_{1} \\right)} \\sin{\\left(\\theta_{2} \\right)} \\sin{\\left(\\theta_{3} \\right)}}{1537} - \\frac{3534 \\sin{\\left(\\theta_{1} \\right)} \\cos{\\left(\\theta_{2} \\right)} \\cos{\\left(\\theta_{3} \\right)}}{1537} - \\frac{5472 \\sin{\\left(\\theta_{1} \\right)} \\cos{\\left(\\theta_{2} \\right)}}{7685} - \\frac{1872 \\sin{\\left(\\theta_{1} \\right)} \\cos{\\left(\\theta_{3} \\right)}}{1537} + \\frac{4836 \\sin{\\left(\\theta_{1} \\right)}}{7685} - \\frac{186 \\sqrt{530} \\sin{\\left(\\theta_{2} \\right)} \\cos{\\left(\\theta_{1} \\right)} \\cos{\\left(\\theta_{3} \\right)}}{1537} - \\frac{288 \\sqrt{530} \\sin{\\left(\\theta_{2} \\right)} \\cos{\\left(\\theta_{1} \\right)}}{7685} - \\frac{6 \\sqrt{290} \\sin{\\left(\\theta_{3} \\right)} \\cos{\\left(\\theta_{1} \\right)} \\cos{\\left(\\theta_{2} \\right)}}{29} & \\frac{6 \\sqrt{290} \\sin{\\left(\\theta_{1} \\right)} \\sin{\\left(\\theta_{2} \\right)} \\sin{\\left(\\theta_{3} \\right)}}{29} - \\frac{186 \\sqrt{530} \\sin{\\left(\\theta_{1} \\right)} \\cos{\\left(\\theta_{2} \\right)} \\cos{\\left(\\theta_{3} \\right)}}{1537} - \\frac{288 \\sqrt{530} \\sin{\\left(\\theta_{1} \\right)} \\cos{\\left(\\theta_{2} \\right)}}{7685} - \\frac{3534 \\sin{\\left(\\theta_{2} \\right)} \\cos{\\left(\\theta_{1} \\right)} \\cos{\\left(\\theta_{3} \\right)}}{1537} - \\frac{5472 \\sin{\\left(\\theta_{2} \\right)} \\cos{\\left(\\theta_{1} \\right)}}{7685} - \\frac{806 \\sin{\\left(\\theta_{2} \\right)} \\cos{\\left(\\theta_{3} \\right)}}{1537} - \\frac{1248 \\sin{\\left(\\theta_{2} \\right)}}{7685} - \\frac{114 \\sqrt{1537} \\sin{\\left(\\theta_{3} \\right)} \\cos{\\left(\\theta_{1} \\right)} \\cos{\\left(\\theta_{2} \\right)}}{1537} - \\frac{26 \\sqrt{1537} \\sin{\\left(\\theta_{3} \\right)} \\cos{\\left(\\theta_{2} \\right)}}{1537} & \\frac{186 \\sqrt{530} \\sin{\\left(\\theta_{1} \\right)} \\sin{\\left(\\theta_{2} \\right)} \\sin{\\left(\\theta_{3} \\right)}}{1537} - \\frac{6 \\sqrt{290} \\sin{\\left(\\theta_{1} \\right)} \\cos{\\left(\\theta_{2} \\right)} \\cos{\\left(\\theta_{3} \\right)}}{29} - \\frac{114 \\sqrt{1537} \\sin{\\left(\\theta_{2} \\right)} \\cos{\\left(\\theta_{1} \\right)} \\cos{\\left(\\theta_{3} \\right)}}{1537} - \\frac{26 \\sqrt{1537} \\sin{\\left(\\theta_{2} \\right)} \\cos{\\left(\\theta_{3} \\right)}}{1537} - \\frac{3534 \\sin{\\left(\\theta_{3} \\right)} \\cos{\\left(\\theta_{1} \\right)} \\cos{\\left(\\theta_{2} \\right)}}{1537} - \\frac{1872 \\sin{\\left(\\theta_{3} \\right)} \\cos{\\left(\\theta_{1} \\right)}}{1537} - \\frac{806 \\sin{\\left(\\theta_{3} \\right)} \\cos{\\left(\\theta_{2} \\right)}}{1537} + \\frac{912 \\sin{\\left(\\theta_{3} \\right)}}{1537}\\\\- \\frac{13 \\sin{\\left(\\frac{\\theta_{1}}{2} \\right)} \\cos{\\left(\\frac{\\theta_{1}}{2} \\right)}}{5} + \\frac{38 \\sqrt{1537} \\sin{\\left(\\theta_{1} \\right)} \\sin{\\left(\\theta_{2} \\right)} \\sin{\\left(\\theta_{3} \\right)}}{1537} - \\frac{1178 \\sin{\\left(\\theta_{1} \\right)} \\cos{\\left(\\theta_{2} \\right)} \\cos{\\left(\\theta_{3} \\right)}}{1537} - \\frac{1824 \\sin{\\left(\\theta_{1} \\right)} \\cos{\\left(\\theta_{2} \\right)}}{7685} - \\frac{624 \\sin{\\left(\\theta_{1} \\right)} \\cos{\\left(\\theta_{3} \\right)}}{1537} + \\frac{1612 \\sin{\\left(\\theta_{1} \\right)}}{7685} - \\frac{62 \\sqrt{530} \\sin{\\left(\\theta_{2} \\right)} \\cos{\\left(\\theta_{1} \\right)} \\cos{\\left(\\theta_{3} \\right)}}{1537} - \\frac{96 \\sqrt{530} \\sin{\\left(\\theta_{2} \\right)} \\cos{\\left(\\theta_{1} \\right)}}{7685} - \\frac{2 \\sqrt{290} \\sin{\\left(\\theta_{3} \\right)} \\cos{\\left(\\theta_{1} \\right)} \\cos{\\left(\\theta_{2} \\right)}}{29} & \\frac{2 \\sqrt{290} \\sin{\\left(\\theta_{1} \\right)} \\sin{\\left(\\theta_{2} \\right)} \\sin{\\left(\\theta_{3} \\right)}}{29} - \\frac{62 \\sqrt{530} \\sin{\\left(\\theta_{1} \\right)} \\cos{\\left(\\theta_{2} \\right)} \\cos{\\left(\\theta_{3} \\right)}}{1537} - \\frac{96 \\sqrt{530} \\sin{\\left(\\theta_{1} \\right)} \\cos{\\left(\\theta_{2} \\right)}}{7685} - \\frac{1178 \\sin{\\left(\\theta_{2} \\right)} \\cos{\\left(\\theta_{1} \\right)} \\cos{\\left(\\theta_{3} \\right)}}{1537} - \\frac{1824 \\sin{\\left(\\theta_{2} \\right)} \\cos{\\left(\\theta_{1} \\right)}}{7685} + \\frac{2418 \\sin{\\left(\\theta_{2} \\right)} \\cos{\\left(\\theta_{3} \\right)}}{1537} + \\frac{3744 \\sin{\\left(\\theta_{2} \\right)}}{7685} - \\frac{38 \\sqrt{1537} \\sin{\\left(\\theta_{3} \\right)} \\cos{\\left(\\theta_{1} \\right)} \\cos{\\left(\\theta_{2} \\right)}}{1537} + \\frac{78 \\sqrt{1537} \\sin{\\left(\\theta_{3} \\right)} \\cos{\\left(\\theta_{2} \\right)}}{1537} & \\frac{62 \\sqrt{530} \\sin{\\left(\\theta_{1} \\right)} \\sin{\\left(\\theta_{2} \\right)} \\sin{\\left(\\theta_{3} \\right)}}{1537} - \\frac{2 \\sqrt{290} \\sin{\\left(\\theta_{1} \\right)} \\cos{\\left(\\theta_{2} \\right)} \\cos{\\left(\\theta_{3} \\right)}}{29} - \\frac{38 \\sqrt{1537} \\sin{\\left(\\theta_{2} \\right)} \\cos{\\left(\\theta_{1} \\right)} \\cos{\\left(\\theta_{3} \\right)}}{1537} + \\frac{78 \\sqrt{1537} \\sin{\\left(\\theta_{2} \\right)} \\cos{\\left(\\theta_{3} \\right)}}{1537} - \\frac{1178 \\sin{\\left(\\theta_{3} \\right)} \\cos{\\left(\\theta_{1} \\right)} \\cos{\\left(\\theta_{2} \\right)}}{1537} - \\frac{624 \\sin{\\left(\\theta_{3} \\right)} \\cos{\\left(\\theta_{1} \\right)}}{1537} + \\frac{2418 \\sin{\\left(\\theta_{3} \\right)} \\cos{\\left(\\theta_{2} \\right)}}{1537} - \\frac{2736 \\sin{\\left(\\theta_{3} \\right)}}{1537}\\\\\\frac{4712 \\sqrt{10} \\sin^{2}{\\left(\\frac{\\theta_{1}}{2} \\right)} \\sin^{2}{\\left(\\frac{\\theta_{2}}{2} \\right)} \\sin^{2}{\\left(\\frac{\\theta_{3}}{2} \\right)}}{1537} - \\frac{532 \\sqrt{10} \\sin^{2}{\\left(\\frac{\\theta_{1}}{2} \\right)} \\sin^{2}{\\left(\\frac{\\theta_{2}}{2} \\right)}}{265} - \\frac{68 \\sqrt{10} \\sin^{2}{\\left(\\frac{\\theta_{1}}{2} \\right)} \\sin^{2}{\\left(\\frac{\\theta_{3}}{2} \\right)}}{29} - \\frac{160 \\sqrt{29} \\sin{\\left(\\frac{\\theta_{1}}{2} \\right)} \\sin^{2}{\\left(\\frac{\\theta_{2}}{2} \\right)} \\sin{\\left(\\frac{\\theta_{3}}{2} \\right)} \\cos{\\left(\\frac{\\theta_{1}}{2} \\right)} \\cos{\\left(\\frac{\\theta_{3}}{2} \\right)}}{29} - \\frac{4960 \\sqrt{53} \\sin{\\left(\\frac{\\theta_{1}}{2} \\right)} \\sin{\\left(\\frac{\\theta_{2}}{2} \\right)} \\sin^{2}{\\left(\\frac{\\theta_{3}}{2} \\right)} \\cos{\\left(\\frac{\\theta_{1}}{2} \\right)} \\cos{\\left(\\frac{\\theta_{2}}{2} \\right)}}{1537} + \\frac{112 \\sqrt{53} \\sin{\\left(\\frac{\\theta_{1}}{2} \\right)} \\sin{\\left(\\frac{\\theta_{2}}{2} \\right)} \\cos{\\left(\\frac{\\theta_{1}}{2} \\right)} \\cos{\\left(\\frac{\\theta_{2}}{2} \\right)}}{53} + \\frac{80 \\sqrt{29} \\sin{\\left(\\frac{\\theta_{1}}{2} \\right)} \\sin{\\left(\\frac{\\theta_{3}}{2} \\right)} \\cos{\\left(\\frac{\\theta_{1}}{2} \\right)} \\cos{\\left(\\frac{\\theta_{3}}{2} \\right)}}{29} - \\frac{4712 \\sqrt{10} \\sin^{2}{\\left(\\frac{\\theta_{2}}{2} \\right)} \\sin^{2}{\\left(\\frac{\\theta_{3}}{2} \\right)} \\cos^{2}{\\left(\\frac{\\theta_{1}}{2} \\right)}}{1537} + \\frac{532 \\sqrt{10} \\sin^{2}{\\left(\\frac{\\theta_{2}}{2} \\right)} \\cos^{2}{\\left(\\frac{\\theta_{1}}{2} \\right)}}{265} + \\frac{38 \\sqrt{15370} \\sin{\\left(\\theta_{2} \\right)} \\sin{\\left(\\theta_{3} \\right)} \\cos{\\left(\\theta_{1} \\right)}}{1537} + \\frac{68 \\sqrt{10} \\sin^{2}{\\left(\\frac{\\theta_{3}}{2} \\right)} \\cos^{2}{\\left(\\frac{\\theta_{1}}{2} \\right)}}{29} - \\frac{5 \\sqrt{10} \\cos{\\left(\\theta_{1} \\right)}}{2} & \\frac{2480 \\sqrt{53} \\sin^{2}{\\left(\\frac{\\theta_{1}}{2} \\right)} \\sin^{2}{\\left(\\frac{\\theta_{2}}{2} \\right)} \\sin^{2}{\\left(\\frac{\\theta_{3}}{2} \\right)}}{1537} - \\frac{56 \\sqrt{53} \\sin^{2}{\\left(\\frac{\\theta_{1}}{2} \\right)} \\sin^{2}{\\left(\\frac{\\theta_{2}}{2} \\right)}}{53} - \\frac{160 \\sqrt{29} \\sin^{2}{\\left(\\frac{\\theta_{1}}{2} \\right)} \\sin{\\left(\\frac{\\theta_{2}}{2} \\right)} \\sin{\\left(\\frac{\\theta_{3}}{2} \\right)} \\cos{\\left(\\frac{\\theta_{2}}{2} \\right)} \\cos{\\left(\\frac{\\theta_{3}}{2} \\right)}}{29} - \\frac{2480 \\sqrt{53} \\sin^{2}{\\left(\\frac{\\theta_{1}}{2} \\right)} \\sin^{2}{\\left(\\frac{\\theta_{3}}{2} \\right)} \\cos^{2}{\\left(\\frac{\\theta_{2}}{2} \\right)}}{1537} + \\frac{56 \\sqrt{53} \\sin^{2}{\\left(\\frac{\\theta_{1}}{2} \\right)} \\cos^{2}{\\left(\\frac{\\theta_{2}}{2} \\right)}}{53} - \\frac{9424 \\sqrt{10} \\sin{\\left(\\frac{\\theta_{1}}{2} \\right)} \\sin{\\left(\\frac{\\theta_{2}}{2} \\right)} \\sin^{2}{\\left(\\frac{\\theta_{3}}{2} \\right)} \\cos{\\left(\\frac{\\theta_{1}}{2} \\right)} \\cos{\\left(\\frac{\\theta_{2}}{2} \\right)}}{1537} + \\frac{1064 \\sqrt{10} \\sin{\\left(\\frac{\\theta_{1}}{2} \\right)} \\sin{\\left(\\frac{\\theta_{2}}{2} \\right)} \\cos{\\left(\\frac{\\theta_{1}}{2} \\right)} \\cos{\\left(\\frac{\\theta_{2}}{2} \\right)}}{265} + \\frac{38 \\sqrt{15370} \\sin{\\left(\\theta_{1} \\right)} \\sin{\\left(\\theta_{3} \\right)} \\cos{\\left(\\theta_{2} \\right)}}{1537} - \\frac{1240 \\sqrt{53} \\sin^{2}{\\left(\\frac{\\theta_{2}}{2} \\right)} \\sin^{2}{\\left(\\frac{\\theta_{3}}{2} \\right)}}{1537} + \\frac{80 \\sqrt{29} \\sin{\\left(\\frac{\\theta_{2}}{2} \\right)} \\sin{\\left(\\frac{\\theta_{3}}{2} \\right)} \\cos{\\left(\\frac{\\theta_{2}}{2} \\right)} \\cos{\\left(\\frac{\\theta_{3}}{2} \\right)}}{29} + \\frac{1240 \\sqrt{53} \\sin^{2}{\\left(\\frac{\\theta_{3}}{2} \\right)} \\cos^{2}{\\left(\\frac{\\theta_{2}}{2} \\right)}}{1537} - \\frac{28 \\sqrt{53} \\cos{\\left(\\theta_{2} \\right)}}{53} & \\frac{80 \\sqrt{29} \\sin^{2}{\\left(\\frac{\\theta_{1}}{2} \\right)} \\sin^{2}{\\left(\\frac{\\theta_{2}}{2} \\right)} \\sin^{2}{\\left(\\frac{\\theta_{3}}{2} \\right)}}{29} - \\frac{80 \\sqrt{29} \\sin^{2}{\\left(\\frac{\\theta_{1}}{2} \\right)} \\sin^{2}{\\left(\\frac{\\theta_{2}}{2} \\right)} \\cos^{2}{\\left(\\frac{\\theta_{3}}{2} \\right)}}{29} - \\frac{4960 \\sqrt{53} \\sin^{2}{\\left(\\frac{\\theta_{1}}{2} \\right)} \\sin{\\left(\\frac{\\theta_{2}}{2} \\right)} \\sin{\\left(\\frac{\\theta_{3}}{2} \\right)} \\cos{\\left(\\frac{\\theta_{2}}{2} \\right)} \\cos{\\left(\\frac{\\theta_{3}}{2} \\right)}}{1537} - \\frac{40 \\sqrt{29} \\sin^{2}{\\left(\\frac{\\theta_{1}}{2} \\right)} \\sin^{2}{\\left(\\frac{\\theta_{3}}{2} \\right)}}{29} + \\frac{40 \\sqrt{29} \\sin^{2}{\\left(\\frac{\\theta_{1}}{2} \\right)} \\cos^{2}{\\left(\\frac{\\theta_{3}}{2} \\right)}}{29} - \\frac{9424 \\sqrt{10} \\sin{\\left(\\frac{\\theta_{1}}{2} \\right)} \\sin^{2}{\\left(\\frac{\\theta_{2}}{2} \\right)} \\sin{\\left(\\frac{\\theta_{3}}{2} \\right)} \\cos{\\left(\\frac{\\theta_{1}}{2} \\right)} \\cos{\\left(\\frac{\\theta_{3}}{2} \\right)}}{1537} + \\frac{136 \\sqrt{10} \\sin{\\left(\\frac{\\theta_{1}}{2} \\right)} \\sin{\\left(\\frac{\\theta_{3}}{2} \\right)} \\cos{\\left(\\frac{\\theta_{1}}{2} \\right)} \\cos{\\left(\\frac{\\theta_{3}}{2} \\right)}}{29} + \\frac{38 \\sqrt{15370} \\sin{\\left(\\theta_{1} \\right)} \\sin{\\left(\\theta_{2} \\right)} \\cos{\\left(\\theta_{3} \\right)}}{1537} - \\frac{40 \\sqrt{29} \\sin^{2}{\\left(\\frac{\\theta_{2}}{2} \\right)} \\sin^{2}{\\left(\\frac{\\theta_{3}}{2} \\right)}}{29} + \\frac{40 \\sqrt{29} \\sin^{2}{\\left(\\frac{\\theta_{2}}{2} \\right)} \\cos^{2}{\\left(\\frac{\\theta_{3}}{2} \\right)}}{29} + \\frac{2480 \\sqrt{53} \\sin{\\left(\\frac{\\theta_{2}}{2} \\right)} \\sin{\\left(\\frac{\\theta_{3}}{2} \\right)} \\cos{\\left(\\frac{\\theta_{2}}{2} \\right)} \\cos{\\left(\\frac{\\theta_{3}}{2} \\right)}}{1537} - \\frac{20 \\sqrt{29} \\cos{\\left(\\theta_{3} \\right)}}{29}\\end{matrix}\\right]$"
      ],
      "text/plain": [
       "Matrix([\n",
       "[                                                                                                                                                                                                                                                                                                                                                                                                                      -39*sin(\\theta_1/2)*cos(\\theta_1/2)/5 + 114*sqrt(1537)*sin(\\theta_1)*sin(\\theta_2)*sin(\\theta_3)/1537 - 3534*sin(\\theta_1)*cos(\\theta_2)*cos(\\theta_3)/1537 - 5472*sin(\\theta_1)*cos(\\theta_2)/7685 - 1872*sin(\\theta_1)*cos(\\theta_3)/1537 + 4836*sin(\\theta_1)/7685 - 186*sqrt(530)*sin(\\theta_2)*cos(\\theta_1)*cos(\\theta_3)/1537 - 288*sqrt(530)*sin(\\theta_2)*cos(\\theta_1)/7685 - 6*sqrt(290)*sin(\\theta_3)*cos(\\theta_1)*cos(\\theta_2)/29,                                                                                                                                                                                                                                                                                                                                                                                                                       6*sqrt(290)*sin(\\theta_1)*sin(\\theta_2)*sin(\\theta_3)/29 - 186*sqrt(530)*sin(\\theta_1)*cos(\\theta_2)*cos(\\theta_3)/1537 - 288*sqrt(530)*sin(\\theta_1)*cos(\\theta_2)/7685 - 3534*sin(\\theta_2)*cos(\\theta_1)*cos(\\theta_3)/1537 - 5472*sin(\\theta_2)*cos(\\theta_1)/7685 - 806*sin(\\theta_2)*cos(\\theta_3)/1537 - 1248*sin(\\theta_2)/7685 - 114*sqrt(1537)*sin(\\theta_3)*cos(\\theta_1)*cos(\\theta_2)/1537 - 26*sqrt(1537)*sin(\\theta_3)*cos(\\theta_2)/1537,                                                                                                                                                                                                                                                                                                                                                                                                                                                              186*sqrt(530)*sin(\\theta_1)*sin(\\theta_2)*sin(\\theta_3)/1537 - 6*sqrt(290)*sin(\\theta_1)*cos(\\theta_2)*cos(\\theta_3)/29 - 114*sqrt(1537)*sin(\\theta_2)*cos(\\theta_1)*cos(\\theta_3)/1537 - 26*sqrt(1537)*sin(\\theta_2)*cos(\\theta_3)/1537 - 3534*sin(\\theta_3)*cos(\\theta_1)*cos(\\theta_2)/1537 - 1872*sin(\\theta_3)*cos(\\theta_1)/1537 - 806*sin(\\theta_3)*cos(\\theta_2)/1537 + 912*sin(\\theta_3)/1537],\n",
       "[                                                                                                                                                                                                                                                                                                                                                                                                                          -13*sin(\\theta_1/2)*cos(\\theta_1/2)/5 + 38*sqrt(1537)*sin(\\theta_1)*sin(\\theta_2)*sin(\\theta_3)/1537 - 1178*sin(\\theta_1)*cos(\\theta_2)*cos(\\theta_3)/1537 - 1824*sin(\\theta_1)*cos(\\theta_2)/7685 - 624*sin(\\theta_1)*cos(\\theta_3)/1537 + 1612*sin(\\theta_1)/7685 - 62*sqrt(530)*sin(\\theta_2)*cos(\\theta_1)*cos(\\theta_3)/1537 - 96*sqrt(530)*sin(\\theta_2)*cos(\\theta_1)/7685 - 2*sqrt(290)*sin(\\theta_3)*cos(\\theta_1)*cos(\\theta_2)/29,                                                                                                                                                                                                                                                                                                                                                                                                                         2*sqrt(290)*sin(\\theta_1)*sin(\\theta_2)*sin(\\theta_3)/29 - 62*sqrt(530)*sin(\\theta_1)*cos(\\theta_2)*cos(\\theta_3)/1537 - 96*sqrt(530)*sin(\\theta_1)*cos(\\theta_2)/7685 - 1178*sin(\\theta_2)*cos(\\theta_1)*cos(\\theta_3)/1537 - 1824*sin(\\theta_2)*cos(\\theta_1)/7685 + 2418*sin(\\theta_2)*cos(\\theta_3)/1537 + 3744*sin(\\theta_2)/7685 - 38*sqrt(1537)*sin(\\theta_3)*cos(\\theta_1)*cos(\\theta_2)/1537 + 78*sqrt(1537)*sin(\\theta_3)*cos(\\theta_2)/1537,                                                                                                                                                                                                                                                                                                                                                                                                                                                               62*sqrt(530)*sin(\\theta_1)*sin(\\theta_2)*sin(\\theta_3)/1537 - 2*sqrt(290)*sin(\\theta_1)*cos(\\theta_2)*cos(\\theta_3)/29 - 38*sqrt(1537)*sin(\\theta_2)*cos(\\theta_1)*cos(\\theta_3)/1537 + 78*sqrt(1537)*sin(\\theta_2)*cos(\\theta_3)/1537 - 1178*sin(\\theta_3)*cos(\\theta_1)*cos(\\theta_2)/1537 - 624*sin(\\theta_3)*cos(\\theta_1)/1537 + 2418*sin(\\theta_3)*cos(\\theta_2)/1537 - 2736*sin(\\theta_3)/1537],\n",
       "[4712*sqrt(10)*sin(\\theta_1/2)**2*sin(\\theta_2/2)**2*sin(\\theta_3/2)**2/1537 - 532*sqrt(10)*sin(\\theta_1/2)**2*sin(\\theta_2/2)**2/265 - 68*sqrt(10)*sin(\\theta_1/2)**2*sin(\\theta_3/2)**2/29 - 160*sqrt(29)*sin(\\theta_1/2)*sin(\\theta_2/2)**2*sin(\\theta_3/2)*cos(\\theta_1/2)*cos(\\theta_3/2)/29 - 4960*sqrt(53)*sin(\\theta_1/2)*sin(\\theta_2/2)*sin(\\theta_3/2)**2*cos(\\theta_1/2)*cos(\\theta_2/2)/1537 + 112*sqrt(53)*sin(\\theta_1/2)*sin(\\theta_2/2)*cos(\\theta_1/2)*cos(\\theta_2/2)/53 + 80*sqrt(29)*sin(\\theta_1/2)*sin(\\theta_3/2)*cos(\\theta_1/2)*cos(\\theta_3/2)/29 - 4712*sqrt(10)*sin(\\theta_2/2)**2*sin(\\theta_3/2)**2*cos(\\theta_1/2)**2/1537 + 532*sqrt(10)*sin(\\theta_2/2)**2*cos(\\theta_1/2)**2/265 + 38*sqrt(15370)*sin(\\theta_2)*sin(\\theta_3)*cos(\\theta_1)/1537 + 68*sqrt(10)*sin(\\theta_3/2)**2*cos(\\theta_1/2)**2/29 - 5*sqrt(10)*cos(\\theta_1)/2, 2480*sqrt(53)*sin(\\theta_1/2)**2*sin(\\theta_2/2)**2*sin(\\theta_3/2)**2/1537 - 56*sqrt(53)*sin(\\theta_1/2)**2*sin(\\theta_2/2)**2/53 - 160*sqrt(29)*sin(\\theta_1/2)**2*sin(\\theta_2/2)*sin(\\theta_3/2)*cos(\\theta_2/2)*cos(\\theta_3/2)/29 - 2480*sqrt(53)*sin(\\theta_1/2)**2*sin(\\theta_3/2)**2*cos(\\theta_2/2)**2/1537 + 56*sqrt(53)*sin(\\theta_1/2)**2*cos(\\theta_2/2)**2/53 - 9424*sqrt(10)*sin(\\theta_1/2)*sin(\\theta_2/2)*sin(\\theta_3/2)**2*cos(\\theta_1/2)*cos(\\theta_2/2)/1537 + 1064*sqrt(10)*sin(\\theta_1/2)*sin(\\theta_2/2)*cos(\\theta_1/2)*cos(\\theta_2/2)/265 + 38*sqrt(15370)*sin(\\theta_1)*sin(\\theta_3)*cos(\\theta_2)/1537 - 1240*sqrt(53)*sin(\\theta_2/2)**2*sin(\\theta_3/2)**2/1537 + 80*sqrt(29)*sin(\\theta_2/2)*sin(\\theta_3/2)*cos(\\theta_2/2)*cos(\\theta_3/2)/29 + 1240*sqrt(53)*sin(\\theta_3/2)**2*cos(\\theta_2/2)**2/1537 - 28*sqrt(53)*cos(\\theta_2)/53, 80*sqrt(29)*sin(\\theta_1/2)**2*sin(\\theta_2/2)**2*sin(\\theta_3/2)**2/29 - 80*sqrt(29)*sin(\\theta_1/2)**2*sin(\\theta_2/2)**2*cos(\\theta_3/2)**2/29 - 4960*sqrt(53)*sin(\\theta_1/2)**2*sin(\\theta_2/2)*sin(\\theta_3/2)*cos(\\theta_2/2)*cos(\\theta_3/2)/1537 - 40*sqrt(29)*sin(\\theta_1/2)**2*sin(\\theta_3/2)**2/29 + 40*sqrt(29)*sin(\\theta_1/2)**2*cos(\\theta_3/2)**2/29 - 9424*sqrt(10)*sin(\\theta_1/2)*sin(\\theta_2/2)**2*sin(\\theta_3/2)*cos(\\theta_1/2)*cos(\\theta_3/2)/1537 + 136*sqrt(10)*sin(\\theta_1/2)*sin(\\theta_3/2)*cos(\\theta_1/2)*cos(\\theta_3/2)/29 + 38*sqrt(15370)*sin(\\theta_1)*sin(\\theta_2)*cos(\\theta_3)/1537 - 40*sqrt(29)*sin(\\theta_2/2)**2*sin(\\theta_3/2)**2/29 + 40*sqrt(29)*sin(\\theta_2/2)**2*cos(\\theta_3/2)**2/29 + 2480*sqrt(53)*sin(\\theta_2/2)*sin(\\theta_3/2)*cos(\\theta_2/2)*cos(\\theta_3/2)/1537 - 20*sqrt(29)*cos(\\theta_3)/29]])"
      ]
     },
     "execution_count": 23,
     "metadata": {},
     "output_type": "execute_result"
    }
   ],
   "source": [
    "J = rvec.jacobian(sympy.Matrix([q1,q2, q3]))\n",
    "J"
   ]
  },
  {
   "cell_type": "code",
   "execution_count": 24,
   "id": "17ccd584-e6c7-4a09-923b-6902b2a63a89",
   "metadata": {},
   "outputs": [
    {
     "data": {
      "text/latex": [
       "$\\displaystyle \\left[\\begin{matrix}- \\frac{9 \\sqrt{290} \\sin{\\left(\\theta_{3} \\right)}}{58} + \\frac{57 \\sqrt{1537} \\sin{\\left(\\theta_{3} \\right)}}{3074} - \\frac{93 \\sqrt{1590} \\cos{\\left(\\theta_{3} \\right)}}{3074} - \\frac{1767 \\sqrt{3} \\cos{\\left(\\theta_{3} \\right)}}{3074} - \\frac{936 \\cos{\\left(\\theta_{3} \\right)}}{1537} - \\frac{39 \\left(- \\frac{\\sqrt{2}}{4} + \\frac{\\sqrt{6}}{4}\\right) \\left(\\frac{\\sqrt{2}}{4} + \\frac{\\sqrt{6}}{4}\\right)}{5} - \\frac{72 \\sqrt{1590}}{7685} - \\frac{1368 \\sqrt{3}}{7685} + \\frac{2418}{7685} & - \\frac{171 \\sqrt{1537} \\sin{\\left(\\theta_{3} \\right)}}{3074} - \\frac{13 \\sqrt{4611} \\sin{\\left(\\theta_{3} \\right)}}{1537} + \\frac{3 \\sqrt{290} \\sin{\\left(\\theta_{3} \\right)}}{58} - \\frac{93 \\sqrt{1590} \\cos{\\left(\\theta_{3} \\right)}}{3074} - \\frac{1767 \\sqrt{3} \\cos{\\left(\\theta_{3} \\right)}}{3074} - \\frac{403 \\cos{\\left(\\theta_{3} \\right)}}{1537} - \\frac{72 \\sqrt{1590}}{7685} - \\frac{1368 \\sqrt{3}}{7685} - \\frac{624}{7685} & - \\frac{1339 \\sqrt{3} \\sin{\\left(\\theta_{3} \\right)}}{1537} - \\frac{3477 \\sin{\\left(\\theta_{3} \\right)}}{3074} + \\frac{93 \\sqrt{530} \\sin{\\left(\\theta_{3} \\right)}}{3074} - \\frac{3 \\sqrt{870} \\cos{\\left(\\theta_{3} \\right)}}{58} - \\frac{57 \\sqrt{4611} \\cos{\\left(\\theta_{3} \\right)}}{3074} - \\frac{13 \\sqrt{1537} \\cos{\\left(\\theta_{3} \\right)}}{1537}\\\\- \\frac{3 \\sqrt{290} \\sin{\\left(\\theta_{3} \\right)}}{58} + \\frac{19 \\sqrt{1537} \\sin{\\left(\\theta_{3} \\right)}}{3074} - \\frac{31 \\sqrt{1590} \\cos{\\left(\\theta_{3} \\right)}}{3074} - \\frac{589 \\sqrt{3} \\cos{\\left(\\theta_{3} \\right)}}{3074} - \\frac{312 \\cos{\\left(\\theta_{3} \\right)}}{1537} - \\frac{13 \\left(- \\frac{\\sqrt{2}}{4} + \\frac{\\sqrt{6}}{4}\\right) \\left(\\frac{\\sqrt{2}}{4} + \\frac{\\sqrt{6}}{4}\\right)}{5} - \\frac{24 \\sqrt{1590}}{7685} - \\frac{456 \\sqrt{3}}{7685} + \\frac{806}{7685} & - \\frac{57 \\sqrt{1537} \\sin{\\left(\\theta_{3} \\right)}}{3074} + \\frac{\\sqrt{290} \\sin{\\left(\\theta_{3} \\right)}}{58} + \\frac{39 \\sqrt{4611} \\sin{\\left(\\theta_{3} \\right)}}{1537} - \\frac{31 \\sqrt{1590} \\cos{\\left(\\theta_{3} \\right)}}{3074} - \\frac{589 \\sqrt{3} \\cos{\\left(\\theta_{3} \\right)}}{3074} + \\frac{1209 \\cos{\\left(\\theta_{3} \\right)}}{1537} - \\frac{24 \\sqrt{1590}}{7685} - \\frac{456 \\sqrt{3}}{7685} + \\frac{1872}{7685} & - \\frac{7239 \\sin{\\left(\\theta_{3} \\right)}}{3074} + \\frac{31 \\sqrt{530} \\sin{\\left(\\theta_{3} \\right)}}{3074} + \\frac{897 \\sqrt{3} \\sin{\\left(\\theta_{3} \\right)}}{1537} - \\frac{\\sqrt{870} \\cos{\\left(\\theta_{3} \\right)}}{58} - \\frac{19 \\sqrt{4611} \\cos{\\left(\\theta_{3} \\right)}}{3074} + \\frac{39 \\sqrt{1537} \\cos{\\left(\\theta_{3} \\right)}}{1537}\\\\- \\frac{4960 \\sqrt{53} \\left(- \\frac{\\sqrt{2}}{4} + \\frac{\\sqrt{6}}{4}\\right)^{2} \\left(\\frac{\\sqrt{2}}{4} + \\frac{\\sqrt{6}}{4}\\right)^{2} \\sin^{2}{\\left(\\frac{\\theta_{3}}{2} \\right)}}{1537} - \\frac{4712 \\sqrt{10} \\left(- \\frac{\\sqrt{2}}{4} + \\frac{\\sqrt{6}}{4}\\right)^{2} \\left(\\frac{\\sqrt{2}}{4} + \\frac{\\sqrt{6}}{4}\\right)^{2} \\sin^{2}{\\left(\\frac{\\theta_{3}}{2} \\right)}}{1537} - \\frac{68 \\sqrt{10} \\left(- \\frac{\\sqrt{2}}{4} + \\frac{\\sqrt{6}}{4}\\right)^{2} \\sin^{2}{\\left(\\frac{\\theta_{3}}{2} \\right)}}{29} + \\frac{4712 \\sqrt{10} \\left(- \\frac{\\sqrt{2}}{4} + \\frac{\\sqrt{6}}{4}\\right)^{4} \\sin^{2}{\\left(\\frac{\\theta_{3}}{2} \\right)}}{1537} + \\frac{68 \\sqrt{10} \\left(\\frac{\\sqrt{2}}{4} + \\frac{\\sqrt{6}}{4}\\right)^{2} \\sin^{2}{\\left(\\frac{\\theta_{3}}{2} \\right)}}{29} - \\frac{160 \\sqrt{29} \\left(- \\frac{\\sqrt{2}}{4} + \\frac{\\sqrt{6}}{4}\\right)^{3} \\left(\\frac{\\sqrt{2}}{4} + \\frac{\\sqrt{6}}{4}\\right) \\sin{\\left(\\frac{\\theta_{3}}{2} \\right)} \\cos{\\left(\\frac{\\theta_{3}}{2} \\right)}}{29} + \\frac{80 \\sqrt{29} \\left(- \\frac{\\sqrt{2}}{4} + \\frac{\\sqrt{6}}{4}\\right) \\left(\\frac{\\sqrt{2}}{4} + \\frac{\\sqrt{6}}{4}\\right) \\sin{\\left(\\frac{\\theta_{3}}{2} \\right)} \\cos{\\left(\\frac{\\theta_{3}}{2} \\right)}}{29} + \\frac{19 \\sqrt{46110} \\sin{\\left(\\theta_{3} \\right)}}{3074} - \\frac{5 \\sqrt{30}}{4} - \\frac{532 \\sqrt{10} \\left(- \\frac{\\sqrt{2}}{4} + \\frac{\\sqrt{6}}{4}\\right)^{4}}{265} + \\frac{532 \\sqrt{10} \\left(- \\frac{\\sqrt{2}}{4} + \\frac{\\sqrt{6}}{4}\\right)^{2} \\left(\\frac{\\sqrt{2}}{4} + \\frac{\\sqrt{6}}{4}\\right)^{2}}{265} + \\frac{112 \\sqrt{53} \\left(- \\frac{\\sqrt{2}}{4} + \\frac{\\sqrt{6}}{4}\\right)^{2} \\left(\\frac{\\sqrt{2}}{4} + \\frac{\\sqrt{6}}{4}\\right)^{2}}{53} & - \\frac{9424 \\sqrt{10} \\left(- \\frac{\\sqrt{2}}{4} + \\frac{\\sqrt{6}}{4}\\right)^{2} \\left(\\frac{\\sqrt{2}}{4} + \\frac{\\sqrt{6}}{4}\\right)^{2} \\sin^{2}{\\left(\\frac{\\theta_{3}}{2} \\right)}}{1537} - \\frac{2480 \\sqrt{53} \\left(- \\frac{\\sqrt{2}}{4} + \\frac{\\sqrt{6}}{4}\\right)^{2} \\left(\\frac{\\sqrt{2}}{4} + \\frac{\\sqrt{6}}{4}\\right)^{2} \\sin^{2}{\\left(\\frac{\\theta_{3}}{2} \\right)}}{1537} - \\frac{1240 \\sqrt{53} \\left(- \\frac{\\sqrt{2}}{4} + \\frac{\\sqrt{6}}{4}\\right)^{2} \\sin^{2}{\\left(\\frac{\\theta_{3}}{2} \\right)}}{1537} + \\frac{2480 \\sqrt{53} \\left(- \\frac{\\sqrt{2}}{4} + \\frac{\\sqrt{6}}{4}\\right)^{4} \\sin^{2}{\\left(\\frac{\\theta_{3}}{2} \\right)}}{1537} + \\frac{1240 \\sqrt{53} \\left(\\frac{\\sqrt{2}}{4} + \\frac{\\sqrt{6}}{4}\\right)^{2} \\sin^{2}{\\left(\\frac{\\theta_{3}}{2} \\right)}}{1537} - \\frac{160 \\sqrt{29} \\left(- \\frac{\\sqrt{2}}{4} + \\frac{\\sqrt{6}}{4}\\right)^{3} \\left(\\frac{\\sqrt{2}}{4} + \\frac{\\sqrt{6}}{4}\\right) \\sin{\\left(\\frac{\\theta_{3}}{2} \\right)} \\cos{\\left(\\frac{\\theta_{3}}{2} \\right)}}{29} + \\frac{80 \\sqrt{29} \\left(- \\frac{\\sqrt{2}}{4} + \\frac{\\sqrt{6}}{4}\\right) \\left(\\frac{\\sqrt{2}}{4} + \\frac{\\sqrt{6}}{4}\\right) \\sin{\\left(\\frac{\\theta_{3}}{2} \\right)} \\cos{\\left(\\frac{\\theta_{3}}{2} \\right)}}{29} + \\frac{19 \\sqrt{46110} \\sin{\\left(\\theta_{3} \\right)}}{3074} - \\frac{14 \\sqrt{159}}{53} - \\frac{56 \\sqrt{53} \\left(- \\frac{\\sqrt{2}}{4} + \\frac{\\sqrt{6}}{4}\\right)^{4}}{53} + \\frac{56 \\sqrt{53} \\left(- \\frac{\\sqrt{2}}{4} + \\frac{\\sqrt{6}}{4}\\right)^{2} \\left(\\frac{\\sqrt{2}}{4} + \\frac{\\sqrt{6}}{4}\\right)^{2}}{53} + \\frac{1064 \\sqrt{10} \\left(- \\frac{\\sqrt{2}}{4} + \\frac{\\sqrt{6}}{4}\\right)^{2} \\left(\\frac{\\sqrt{2}}{4} + \\frac{\\sqrt{6}}{4}\\right)^{2}}{265} & - \\frac{80 \\sqrt{29} \\left(- \\frac{\\sqrt{2}}{4} + \\frac{\\sqrt{6}}{4}\\right)^{2} \\sin^{2}{\\left(\\frac{\\theta_{3}}{2} \\right)}}{29} + \\frac{80 \\sqrt{29} \\left(- \\frac{\\sqrt{2}}{4} + \\frac{\\sqrt{6}}{4}\\right)^{4} \\sin^{2}{\\left(\\frac{\\theta_{3}}{2} \\right)}}{29} - \\frac{4960 \\sqrt{53} \\left(- \\frac{\\sqrt{2}}{4} + \\frac{\\sqrt{6}}{4}\\right)^{3} \\left(\\frac{\\sqrt{2}}{4} + \\frac{\\sqrt{6}}{4}\\right) \\sin{\\left(\\frac{\\theta_{3}}{2} \\right)} \\cos{\\left(\\frac{\\theta_{3}}{2} \\right)}}{1537} - \\frac{9424 \\sqrt{10} \\left(- \\frac{\\sqrt{2}}{4} + \\frac{\\sqrt{6}}{4}\\right)^{3} \\left(\\frac{\\sqrt{2}}{4} + \\frac{\\sqrt{6}}{4}\\right) \\sin{\\left(\\frac{\\theta_{3}}{2} \\right)} \\cos{\\left(\\frac{\\theta_{3}}{2} \\right)}}{1537} + \\frac{2480 \\sqrt{53} \\left(- \\frac{\\sqrt{2}}{4} + \\frac{\\sqrt{6}}{4}\\right) \\left(\\frac{\\sqrt{2}}{4} + \\frac{\\sqrt{6}}{4}\\right) \\sin{\\left(\\frac{\\theta_{3}}{2} \\right)} \\cos{\\left(\\frac{\\theta_{3}}{2} \\right)}}{1537} + \\frac{136 \\sqrt{10} \\left(- \\frac{\\sqrt{2}}{4} + \\frac{\\sqrt{6}}{4}\\right) \\left(\\frac{\\sqrt{2}}{4} + \\frac{\\sqrt{6}}{4}\\right) \\sin{\\left(\\frac{\\theta_{3}}{2} \\right)} \\cos{\\left(\\frac{\\theta_{3}}{2} \\right)}}{29} - \\frac{80 \\sqrt{29} \\left(- \\frac{\\sqrt{2}}{4} + \\frac{\\sqrt{6}}{4}\\right)^{4} \\cos^{2}{\\left(\\frac{\\theta_{3}}{2} \\right)}}{29} + \\frac{80 \\sqrt{29} \\left(- \\frac{\\sqrt{2}}{4} + \\frac{\\sqrt{6}}{4}\\right)^{2} \\cos^{2}{\\left(\\frac{\\theta_{3}}{2} \\right)}}{29} - \\frac{20 \\sqrt{29} \\cos{\\left(\\theta_{3} \\right)}}{29} + \\frac{19 \\sqrt{15370} \\cos{\\left(\\theta_{3} \\right)}}{3074}\\end{matrix}\\right]$"
      ],
      "text/plain": [
       "Matrix([\n",
       "[                                                                                                                                                                                                                                                                                                                                                                                                                                                                                                                                                                                 -9*sqrt(290)*sin(\\theta_3)/58 + 57*sqrt(1537)*sin(\\theta_3)/3074 - 93*sqrt(1590)*cos(\\theta_3)/3074 - 1767*sqrt(3)*cos(\\theta_3)/3074 - 936*cos(\\theta_3)/1537 - 39*(-sqrt(2)/4 + sqrt(6)/4)*(sqrt(2)/4 + sqrt(6)/4)/5 - 72*sqrt(1590)/7685 - 1368*sqrt(3)/7685 + 2418/7685,                                                                                                                                                                                                                                                                                                                                                                                                                                                                                                                                                                                                                -171*sqrt(1537)*sin(\\theta_3)/3074 - 13*sqrt(4611)*sin(\\theta_3)/1537 + 3*sqrt(290)*sin(\\theta_3)/58 - 93*sqrt(1590)*cos(\\theta_3)/3074 - 1767*sqrt(3)*cos(\\theta_3)/3074 - 403*cos(\\theta_3)/1537 - 72*sqrt(1590)/7685 - 1368*sqrt(3)/7685 - 624/7685,                                                                                                                                                                                                                                                                                                                                                                                                                                                                                                                                                            -1339*sqrt(3)*sin(\\theta_3)/1537 - 3477*sin(\\theta_3)/3074 + 93*sqrt(530)*sin(\\theta_3)/3074 - 3*sqrt(870)*cos(\\theta_3)/58 - 57*sqrt(4611)*cos(\\theta_3)/3074 - 13*sqrt(1537)*cos(\\theta_3)/1537],\n",
       "[                                                                                                                                                                                                                                                                                                                                                                                                                                                                                                                                                                                    -3*sqrt(290)*sin(\\theta_3)/58 + 19*sqrt(1537)*sin(\\theta_3)/3074 - 31*sqrt(1590)*cos(\\theta_3)/3074 - 589*sqrt(3)*cos(\\theta_3)/3074 - 312*cos(\\theta_3)/1537 - 13*(-sqrt(2)/4 + sqrt(6)/4)*(sqrt(2)/4 + sqrt(6)/4)/5 - 24*sqrt(1590)/7685 - 456*sqrt(3)/7685 + 806/7685,                                                                                                                                                                                                                                                                                                                                                                                                                                                                                                                                                                                                                   -57*sqrt(1537)*sin(\\theta_3)/3074 + sqrt(290)*sin(\\theta_3)/58 + 39*sqrt(4611)*sin(\\theta_3)/1537 - 31*sqrt(1590)*cos(\\theta_3)/3074 - 589*sqrt(3)*cos(\\theta_3)/3074 + 1209*cos(\\theta_3)/1537 - 24*sqrt(1590)/7685 - 456*sqrt(3)/7685 + 1872/7685,                                                                                                                                                                                                                                                                                                                                                                                                                                                                                                                                                               -7239*sin(\\theta_3)/3074 + 31*sqrt(530)*sin(\\theta_3)/3074 + 897*sqrt(3)*sin(\\theta_3)/1537 - sqrt(870)*cos(\\theta_3)/58 - 19*sqrt(4611)*cos(\\theta_3)/3074 + 39*sqrt(1537)*cos(\\theta_3)/1537],\n",
       "[-4960*sqrt(53)*(-sqrt(2)/4 + sqrt(6)/4)**2*(sqrt(2)/4 + sqrt(6)/4)**2*sin(\\theta_3/2)**2/1537 - 4712*sqrt(10)*(-sqrt(2)/4 + sqrt(6)/4)**2*(sqrt(2)/4 + sqrt(6)/4)**2*sin(\\theta_3/2)**2/1537 - 68*sqrt(10)*(-sqrt(2)/4 + sqrt(6)/4)**2*sin(\\theta_3/2)**2/29 + 4712*sqrt(10)*(-sqrt(2)/4 + sqrt(6)/4)**4*sin(\\theta_3/2)**2/1537 + 68*sqrt(10)*(sqrt(2)/4 + sqrt(6)/4)**2*sin(\\theta_3/2)**2/29 - 160*sqrt(29)*(-sqrt(2)/4 + sqrt(6)/4)**3*(sqrt(2)/4 + sqrt(6)/4)*sin(\\theta_3/2)*cos(\\theta_3/2)/29 + 80*sqrt(29)*(-sqrt(2)/4 + sqrt(6)/4)*(sqrt(2)/4 + sqrt(6)/4)*sin(\\theta_3/2)*cos(\\theta_3/2)/29 + 19*sqrt(46110)*sin(\\theta_3)/3074 - 5*sqrt(30)/4 - 532*sqrt(10)*(-sqrt(2)/4 + sqrt(6)/4)**4/265 + 532*sqrt(10)*(-sqrt(2)/4 + sqrt(6)/4)**2*(sqrt(2)/4 + sqrt(6)/4)**2/265 + 112*sqrt(53)*(-sqrt(2)/4 + sqrt(6)/4)**2*(sqrt(2)/4 + sqrt(6)/4)**2/53, -9424*sqrt(10)*(-sqrt(2)/4 + sqrt(6)/4)**2*(sqrt(2)/4 + sqrt(6)/4)**2*sin(\\theta_3/2)**2/1537 - 2480*sqrt(53)*(-sqrt(2)/4 + sqrt(6)/4)**2*(sqrt(2)/4 + sqrt(6)/4)**2*sin(\\theta_3/2)**2/1537 - 1240*sqrt(53)*(-sqrt(2)/4 + sqrt(6)/4)**2*sin(\\theta_3/2)**2/1537 + 2480*sqrt(53)*(-sqrt(2)/4 + sqrt(6)/4)**4*sin(\\theta_3/2)**2/1537 + 1240*sqrt(53)*(sqrt(2)/4 + sqrt(6)/4)**2*sin(\\theta_3/2)**2/1537 - 160*sqrt(29)*(-sqrt(2)/4 + sqrt(6)/4)**3*(sqrt(2)/4 + sqrt(6)/4)*sin(\\theta_3/2)*cos(\\theta_3/2)/29 + 80*sqrt(29)*(-sqrt(2)/4 + sqrt(6)/4)*(sqrt(2)/4 + sqrt(6)/4)*sin(\\theta_3/2)*cos(\\theta_3/2)/29 + 19*sqrt(46110)*sin(\\theta_3)/3074 - 14*sqrt(159)/53 - 56*sqrt(53)*(-sqrt(2)/4 + sqrt(6)/4)**4/53 + 56*sqrt(53)*(-sqrt(2)/4 + sqrt(6)/4)**2*(sqrt(2)/4 + sqrt(6)/4)**2/53 + 1064*sqrt(10)*(-sqrt(2)/4 + sqrt(6)/4)**2*(sqrt(2)/4 + sqrt(6)/4)**2/265, -80*sqrt(29)*(-sqrt(2)/4 + sqrt(6)/4)**2*sin(\\theta_3/2)**2/29 + 80*sqrt(29)*(-sqrt(2)/4 + sqrt(6)/4)**4*sin(\\theta_3/2)**2/29 - 4960*sqrt(53)*(-sqrt(2)/4 + sqrt(6)/4)**3*(sqrt(2)/4 + sqrt(6)/4)*sin(\\theta_3/2)*cos(\\theta_3/2)/1537 - 9424*sqrt(10)*(-sqrt(2)/4 + sqrt(6)/4)**3*(sqrt(2)/4 + sqrt(6)/4)*sin(\\theta_3/2)*cos(\\theta_3/2)/1537 + 2480*sqrt(53)*(-sqrt(2)/4 + sqrt(6)/4)*(sqrt(2)/4 + sqrt(6)/4)*sin(\\theta_3/2)*cos(\\theta_3/2)/1537 + 136*sqrt(10)*(-sqrt(2)/4 + sqrt(6)/4)*(sqrt(2)/4 + sqrt(6)/4)*sin(\\theta_3/2)*cos(\\theta_3/2)/29 - 80*sqrt(29)*(-sqrt(2)/4 + sqrt(6)/4)**4*cos(\\theta_3/2)**2/29 + 80*sqrt(29)*(-sqrt(2)/4 + sqrt(6)/4)**2*cos(\\theta_3/2)**2/29 - 20*sqrt(29)*cos(\\theta_3)/29 + 19*sqrt(15370)*cos(\\theta_3)/3074]])"
      ]
     },
     "execution_count": 24,
     "metadata": {},
     "output_type": "execute_result"
    }
   ],
   "source": [
    "Jn = J.subs({q1:pi/6,q2: pi/6})\n",
    "\n",
    "Jn"
   ]
  },
  {
   "cell_type": "code",
   "execution_count": 25,
   "id": "9bc6e825-6036-430d-b372-c00e2682bb94",
   "metadata": {},
   "outputs": [],
   "source": [
    "#Fixed Points\n",
    "p0final = sympy.Matrix([0,0,0])\n",
    "p1final = sympy.Matrix([3,5,0])\n",
    "p2final = sympy.Matrix([5,-1,0])\n",
    "\n",
    "#Movable Points\n",
    "p5final = v1_in_a + v2_in_a\n",
    "p5final = sympy.Matrix([p5final.b, p5final.c, p5final.d])\n",
    "\n",
    "p4final = v1_in_a + v2_in_a + v3_in_a\n",
    "p4final = sympy.Matrix([p4final.b, p4final.c, p4final.d])\n",
    "\n",
    "p3final = v4_in_a + v5_in_a\n",
    "p3final = sympy.Matrix([p3final.b, p3final.c, p3final.d])\n",
    "\n",
    "p4final1 = v4_in_a + v5_in_a + v6_in_a\n",
    "p4final1 = sympy.Matrix([p4final1.b, p4final1.c, p4final1.d])"
   ]
  },
  {
   "cell_type": "markdown",
   "id": "e3e03f15-a311-4bc8-8633-47a11e664367",
   "metadata": {},
   "source": [
    "#### Plotting"
   ]
  },
  {
   "cell_type": "code",
   "execution_count": 44,
   "id": "1754e511-73c7-4110-a4ec-94df46008aa0",
   "metadata": {},
   "outputs": [
    {
     "data": {
      "text/latex": [
       "$\\displaystyle \\left[\\begin{matrix}0 & 0 & 0\\\\3 & 5 & 0\\\\5 & -1 & 0\\\\9 & 1 & 0\\\\11 & 6 & 0\\\\7 & 6 & 0\\end{matrix}\\right]$"
      ],
      "text/plain": [
       "Matrix([\n",
       "[ 0,  0, 0],\n",
       "[ 3,  5, 0],\n",
       "[ 5, -1, 0],\n",
       "[ 9,  1, 0],\n",
       "[11,  6, 0],\n",
       "[ 7,  6, 0]])"
      ]
     },
     "execution_count": 44,
     "metadata": {},
     "output_type": "execute_result"
    }
   ],
   "source": [
    "points = [p0final.T, p1final.T, p2final.T, p3final.T, p4final.T , p5final.T]\n",
    "points = sympy.Matrix(points)\n",
    "design = {}\n",
    "#design[l_1] = 1\n",
    "#design[l_2] = 1\n",
    "state = {}\n",
    "state[q1] = 0*math.pi/180\n",
    "state[q2] = 0*math.pi/180\n",
    "state[q3] = 0*math.pi/180\n",
    "#points = points.subs(design)\n",
    "points = points.subs(state)\n",
    "points\n"
   ]
  },
  {
   "cell_type": "code",
   "execution_count": 45,
   "id": "368eadde-585c-44c6-ab89-9bc84ad102c3",
   "metadata": {},
   "outputs": [
    {
     "data": {
      "text/plain": [
       "array([[ 0.,  0.,  0.],\n",
       "       [ 3.,  5.,  0.],\n",
       "       [ 5., -1.,  0.],\n",
       "       [ 9.,  1.,  0.],\n",
       "       [11.,  6.,  0.],\n",
       "       [ 7.,  6.,  0.]])"
      ]
     },
     "execution_count": 45,
     "metadata": {},
     "output_type": "execute_result"
    }
   ],
   "source": [
    "points = numpy.array(points,dtype=float)\n",
    "points = points.squeeze()\n",
    "points"
   ]
  },
  {
   "cell_type": "code",
   "execution_count": 46,
   "id": "83e345a7-ff9c-4e98-adb8-2cf56cbdb61a",
   "metadata": {},
   "outputs": [
    {
     "data": {
      "image/png": "[encoded data removed]",
      "text/plain": [
       "<Figure size 640x480 with 1 Axes>"
      ]
     },
     "metadata": {},
     "output_type": "display_data"
    }
   ],
   "source": [
    "import numpy as np\n",
    "import matplotlib.pyplot as plt\n",
    "from mpl_toolkits.mplot3d import Axes3D\n",
    "\n",
    "# Example array of x, y, z coordinates\n",
    "#coordinates = np.array([\n",
    "#    [1, 2, 3],  # p0\n",
    "#    [4, 5, 6],  # p1\n",
    "#    [7, 8, 9],  # p2\n",
    "#    [10, 11, 12],  # p3\n",
    "#    [13, 14, 15],  # p4\n",
    "#    [16, 17, 18]   # p5\n",
    "#])\n",
    "\n",
    "coordinates = points\n",
    "\n",
    "# Extracting x, y, z coordinates\n",
    "x = coordinates[:, 0]\n",
    "y = coordinates[:, 1]\n",
    "z = coordinates[:, 2]\n",
    "\n",
    "# Create a new figure for 3D plotting\n",
    "fig = plt.figure()\n",
    "ax = fig.add_subplot(111, projection='3d')\n",
    "\n",
    "# Plotting the points\n",
    "ax.scatter(x, y, z, color='b', s=100)  # s controls the size of the points\n",
    "\n",
    "# Defining the lines to connect the points\n",
    "lines = [\n",
    "    (0, 1), (0, 2), (1, 2), (1, 5),\n",
    "    (2, 3), (2, 5), (3, 5), (3, 4),\n",
    "    (5, 4)\n",
    "]\n",
    "\n",
    "# Plotting the lines\n",
    "for start, end in lines:\n",
    "    ax.plot([x[start], x[end]], [y[start], y[end]], [z[start], z[end]], color='r')\n",
    "\n",
    "# Setting labels\n",
    "ax.set_xlabel('X Axis')\n",
    "ax.set_ylabel('Y Axis')\n",
    "ax.set_zlabel('Z Axis')\n",
    "\n",
    "# Show the plot\n",
    "plt.show()\n"
   ]
  },
  {
   "cell_type": "code",
   "id": "omp3gkcynvh",
   "source": "# Animation Code - Create GIF of robot movement\nimport numpy as np\nimport matplotlib.pyplot as plt\nfrom mpl_toolkits.mplot3d import Axes3D\nimport matplotlib.animation as animation\nfrom PIL import Image\nimport io\nimport os\n\ndef create_robot_animation():\n    \"\"\"Create an animated GIF of the robot moving through different angle configurations\"\"\"\n    \n    # Create figure for animation\n    fig = plt.figure(figsize=(10, 8))\n    ax = fig.add_subplot(111, projection='3d')\n    \n    # Animation parameters\n    num_frames = 60  # Number of frames in animation\n    angle_range = 90  # Degrees to rotate each joint\n    \n    # Store frames for GIF creation\n    frames = []\n    \n    print(\"Generating animation frames...\")\n    \n    for frame in range(num_frames):\n        # Clear the axes\n        ax.clear()\n        \n        # Calculate angles for this frame (sinusoidal motion for smooth animation)\n        t = frame / num_frames * 2 * np.pi\n        angle1 = angle_range * np.sin(t) * math.pi / 180\n        angle2 = angle_range * np.sin(t + np.pi/3) * math.pi / 180  # Phase offset\n        angle3 = angle_range * np.sin(t + 2*np.pi/3) * math.pi / 180  # Different phase offset\n        \n        # Create state dictionary for current frame\n        current_state = {\n            q1: angle1,\n            q2: angle2,\n            q3: angle3\n        }\n        \n        # Calculate points for current configuration\n        current_points = [p0final.T, p1final.T, p2final.T, p3final.T, p4final.T, p5final.T]\n        current_points = sympy.Matrix(current_points)\n        current_points = current_points.subs(current_state)\n        current_points = numpy.array(current_points, dtype=float).squeeze()\n        \n        # Extract coordinates\n        x = current_points[:, 0]\n        y = current_points[:, 1]\n        z = current_points[:, 2]\n        \n        # Plot points\n        ax.scatter(x, y, z, color='b', s=100)\n        \n        # Define and plot lines\n        lines = [\n            (0, 1), (0, 2), (1, 2), (1, 5),\n            (2, 3), (2, 5), (3, 5), (3, 4),\n            (5, 4)\n        ]\n        \n        for start, end in lines:\n            ax.plot([x[start], x[end]], [y[start], y[end]], [z[start], z[end]], color='r', linewidth=2)\n        \n        # Set consistent axis limits and labels\n        ax.set_xlim([-5, 15])\n        ax.set_ylim([-8, 12])\n        ax.set_zlim([-5, 5])\n        ax.set_xlabel('X Axis')\n        ax.set_ylabel('Y Axis')\n        ax.set_zlabel('Z Axis')\n        ax.set_title(f'Foldable Robot Animation - Frame {frame+1}/{num_frames}')\n        \n        # Convert plot to image\n        buf = io.BytesIO()\n        plt.savefig(buf, format='png', dpi=100, bbox_inches='tight')\n        buf.seek(0)\n        img = Image.open(buf)\n        frames.append(img)\n        buf.close()\n        \n        # Progress indicator\n        if (frame + 1) % 10 == 0:\n            print(f\"Generated {frame + 1}/{num_frames} frames\")\n    \n    # Create and save GIF\n    gif_filename = 'robot_animation.gif'\n    print(f\"Creating GIF: {gif_filename}\")\n    \n    # Save as GIF\n    frames[0].save(\n        gif_filename,\n        save_all=True,\n        append_images=frames[1:],\n        duration=100,  # Duration per frame in milliseconds\n        loop=0  # Infinite loop\n    )\n    \n    plt.close(fig)\n    \n    print(f\"Animation saved as {gif_filename}\")\n    print(f\"File location: {os.path.abspath(gif_filename)}\")\n    \n    return gif_filename\n\n# Create the animation\nanimation_file = create_robot_animation()",
   "metadata": {},
   "execution_count": null,
   "outputs": []
  },
  {
   "cell_type": "code",
   "execution_count": null,
   "id": "27334b27-a067-4d60-833a-2678bf90e611",
   "metadata": {},
   "outputs": [],
   "source": []
  },
  {
   "cell_type": "code",
   "execution_count": null,
   "id": "fdaa56a5-67ec-483b-aaae-ba3d6457d53c",
   "metadata": {},
   "outputs": [],
   "source": []
  }
 ],
 "metadata": {
  "kernelspec": {
   "display_name": "Python 3 (ipykernel)",
   "language": "python",
   "name": "python3"
  },
  "language_info": {
   "codemirror_mode": {
    "name": "ipython",
    "version": 3
   },
   "file_extension": ".py",
   "mimetype": "text/x-python",
   "name": "python",
   "nbconvert_exporter": "python",
   "pygments_lexer": "ipython3",
   "version": "3.12.2"
  }
 },
 "nbformat": 4,
 "nbformat_minor": 5
}