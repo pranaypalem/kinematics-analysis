{
 "cells": [
  {
   "cell_type": "markdown",
   "id": "b24ec116-0f0e-4492-b0c5-e439530886b2",
   "metadata": {},
   "source": [
    "## Assignment 2: Kinematics - Part 2\n",
    "\n",
    "### Pranay Palem\n"
   ]
  },
  {
   "cell_type": "markdown",
   "id": "e96a75f1-31d6-414d-84c0-4982e8c481d0",
   "metadata": {},
   "source": [
    "### Part 4"
   ]
  },
  {
   "cell_type": "code",
   "execution_count": 1,
   "id": "ccf239ad-1ed5-418f-9bd6-51949a9fcf6f",
   "metadata": {},
   "outputs": [],
   "source": [
    "import numpy\n",
    "import math\n",
    "import matplotlib.pyplot as plt\n",
    "import sympy\n",
    "\n",
    "from mpl_toolkits.mplot3d import Axes3D\n",
    "\n",
    "from sympy import symbols, Matrix, pi, cos, sin, I, acos, sqrt\n",
    "from sympy import Quaternion\n",
    "import scipy.optimize"
   ]
  },
  {
   "cell_type": "code",
   "execution_count": 2,
   "id": "f3b03f15-b9fd-4ffb-8e46-9ac2b7f298d8",
   "metadata": {},
   "outputs": [
    {
     "data": {
      "text/latex": [
       "$\\displaystyle l_{b}$"
      ],
      "text/plain": [
       "l_b"
      ]
     },
     "execution_count": 2,
     "metadata": {},
     "output_type": "execute_result"
    }
   ],
   "source": [
    "lb, lc = symbols('l_b , l_c')\n",
    "lb"
   ]
  },
  {
   "cell_type": "code",
   "execution_count": 3,
   "id": "a3d08dfc-2b6a-4e1c-b3f6-63ddee961dc9",
   "metadata": {},
   "outputs": [
    {
     "data": {
      "text/latex": [
       "$\\displaystyle \\theta_{1}$"
      ],
      "text/plain": [
       "\\theta_1"
      ]
     },
     "execution_count": 3,
     "metadata": {},
     "output_type": "execute_result"
    }
   ],
   "source": [
    "q1 , q2 = symbols('\\\\theta_1, \\\\theta_2')\n",
    "q1"
   ]
  },
  {
   "cell_type": "code",
   "execution_count": 4,
   "id": "ef88a9a6-24ea-43d5-8c29-db4e42af5ca0",
   "metadata": {},
   "outputs": [],
   "source": [
    "def Rx(theta):\n",
    "    Rx = sympy.Matrix([[1,0,0],\n",
    "                       [0, sympy.cos(theta) , -sympy.sin(theta)],\n",
    "                       [0,sympy.sin(theta), sympy.cos(theta)]])\n",
    "    return Rx\n",
    "\n",
    "\n",
    "\n",
    "def Rz(theta):\n",
    "    Rz = sympy.Matrix([[sympy.cos(theta),-sympy.sin(theta),0],\n",
    "                       [sympy.sin(theta),sympy.cos(theta),0],\n",
    "                       [0,0,1]])\n",
    "    return Rz\n",
    "\n"
   ]
  },
  {
   "cell_type": "markdown",
   "id": "76cbad19-ae37-4878-9360-102bb4b1483e",
   "metadata": {},
   "source": [
    "#### 1. Rotation Tables are:"
   ]
  },
  {
   "cell_type": "code",
   "execution_count": 5,
   "id": "7beb079d-ce30-42f3-bdd0-74caf851920e",
   "metadata": {},
   "outputs": [
    {
     "data": {
      "text/latex": [
       "$\\displaystyle \\left[\\begin{matrix}1 & 0 & 0\\\\0 & \\cos{\\left(\\theta_{1} \\right)} & - \\sin{\\left(\\theta_{1} \\right)}\\\\0 & \\sin{\\left(\\theta_{1} \\right)} & \\cos{\\left(\\theta_{1} \\right)}\\end{matrix}\\right]$"
      ],
      "text/plain": [
       "Matrix([\n",
       "[1,             0,              0],\n",
       "[0, cos(\\theta_1), -sin(\\theta_1)],\n",
       "[0, sin(\\theta_1),  cos(\\theta_1)]])"
      ]
     },
     "execution_count": 5,
     "metadata": {},
     "output_type": "execute_result"
    }
   ],
   "source": [
    "Rx(q1)"
   ]
  },
  {
   "cell_type": "code",
   "execution_count": 6,
   "id": "65913e66-b585-476c-8441-a561045a4d67",
   "metadata": {},
   "outputs": [
    {
     "data": {
      "text/latex": [
       "$\\displaystyle \\left[\\begin{matrix}\\cos{\\left(\\theta_{2} \\right)} & - \\sin{\\left(\\theta_{2} \\right)} & 0\\\\\\sin{\\left(\\theta_{2} \\right)} & \\cos{\\left(\\theta_{2} \\right)} & 0\\\\0 & 0 & 1\\end{matrix}\\right]$"
      ],
      "text/plain": [
       "Matrix([\n",
       "[cos(\\theta_2), -sin(\\theta_2), 0],\n",
       "[sin(\\theta_2),  cos(\\theta_2), 0],\n",
       "[            0,              0, 1]])"
      ]
     },
     "execution_count": 6,
     "metadata": {},
     "output_type": "execute_result"
    }
   ],
   "source": [
    "Rz(q2)"
   ]
  },
  {
   "cell_type": "code",
   "execution_count": 7,
   "id": "b96ddb6d-89f8-4654-9d6c-df0c391d2100",
   "metadata": {},
   "outputs": [],
   "source": [
    "Rab = Rz(q1)\n",
    "Rbc = Rx(q2)"
   ]
  },
  {
   "cell_type": "code",
   "execution_count": 8,
   "id": "a3bc5973-5824-4c70-801c-7a900ff7b99b",
   "metadata": {},
   "outputs": [
    {
     "data": {
      "text/latex": [
       "$\\displaystyle \\left[\\begin{matrix}1\\\\0\\\\0\\end{matrix}\\right]$"
      ],
      "text/plain": [
       "Matrix([\n",
       "[1],\n",
       "[0],\n",
       "[0]])"
      ]
     },
     "execution_count": 8,
     "metadata": {},
     "output_type": "execute_result"
    }
   ],
   "source": [
    "ax_in_a = sympy.Matrix([1,0,0])\n",
    "\n",
    "bx_in_b = ax_in_a\n",
    "bz_in_b = sympy.Matrix([0,0,1])\n",
    "\n",
    "by_in_b = sympy.Matrix([0,1,0])\n",
    "\n",
    "cy_in_c = sympy.Matrix([0,1,0])\n",
    "\n",
    "ax_in_a"
   ]
  },
  {
   "cell_type": "code",
   "execution_count": 9,
   "id": "e26940be-63a7-4f3c-8b34-53f086235ea2",
   "metadata": {},
   "outputs": [
    {
     "data": {
      "text/latex": [
       "$\\displaystyle \\left[\\begin{matrix}0\\\\0\\\\l_{b}\\end{matrix}\\right]$"
      ],
      "text/plain": [
       "Matrix([\n",
       "[  0],\n",
       "[  0],\n",
       "[l_b]])"
      ]
     },
     "execution_count": 9,
     "metadata": {},
     "output_type": "execute_result"
    }
   ],
   "source": [
    "v1_in_b = lb*bz_in_b\n",
    "v1_in_b\n",
    "\n",
    "v1_in_a = Rab*v1_in_b\n",
    "v1_in_a"
   ]
  },
  {
   "cell_type": "code",
   "execution_count": 10,
   "id": "f5ef7427-166c-43f0-9525-031478f6e511",
   "metadata": {},
   "outputs": [
    {
     "data": {
      "text/latex": [
       "$\\displaystyle \\left[\\begin{matrix}- l_{c} \\sin{\\left(\\theta_{1} \\right)} \\cos{\\left(\\theta_{2} \\right)}\\\\l_{c} \\cos{\\left(\\theta_{1} \\right)} \\cos{\\left(\\theta_{2} \\right)}\\\\l_{c} \\sin{\\left(\\theta_{2} \\right)}\\end{matrix}\\right]$"
      ],
      "text/plain": [
       "Matrix([\n",
       "[-l_c*sin(\\theta_1)*cos(\\theta_2)],\n",
       "[ l_c*cos(\\theta_1)*cos(\\theta_2)],\n",
       "[               l_c*sin(\\theta_2)]])"
      ]
     },
     "execution_count": 10,
     "metadata": {},
     "output_type": "execute_result"
    }
   ],
   "source": [
    "v2_in_c = lc*cy_in_c\n",
    "v2_in_b = Rbc*v2_in_c\n",
    "v2_in_b\n",
    "\n",
    "v2_in_a = Rab * v2_in_b\n",
    "v2_in_a"
   ]
  },
  {
   "cell_type": "code",
   "execution_count": 11,
   "id": "d249da30-e994-4488-9732-10ef353e8e54",
   "metadata": {},
   "outputs": [
    {
     "data": {
      "text/latex": [
       "$\\displaystyle \\left[\\begin{matrix}0\\\\0\\\\0\\end{matrix}\\right]$"
      ],
      "text/plain": [
       "Matrix([\n",
       "[0],\n",
       "[0],\n",
       "[0]])"
      ]
     },
     "execution_count": 11,
     "metadata": {},
     "output_type": "execute_result"
    }
   ],
   "source": [
    "o = sympy.Matrix([0,0,0])\n",
    "o"
   ]
  },
  {
   "cell_type": "code",
   "execution_count": 12,
   "id": "84ac8e6c-ee99-48c7-b512-16480be5cc02",
   "metadata": {},
   "outputs": [
    {
     "data": {
      "text/latex": [
       "$\\displaystyle \\left[\\begin{matrix}0\\\\0\\\\l_{b}\\end{matrix}\\right]$"
      ],
      "text/plain": [
       "Matrix([\n",
       "[  0],\n",
       "[  0],\n",
       "[l_b]])"
      ]
     },
     "execution_count": 12,
     "metadata": {},
     "output_type": "execute_result"
    }
   ],
   "source": [
    "p1 = o+v1_in_a\n",
    "p1"
   ]
  },
  {
   "cell_type": "code",
   "execution_count": 13,
   "id": "e3c6b024-314b-4400-8320-39bb64124324",
   "metadata": {},
   "outputs": [
    {
     "data": {
      "text/latex": [
       "$\\displaystyle \\left[\\begin{matrix}- l_{c} \\sin{\\left(\\theta_{1} \\right)} \\cos{\\left(\\theta_{2} \\right)}\\\\l_{c} \\cos{\\left(\\theta_{1} \\right)} \\cos{\\left(\\theta_{2} \\right)}\\\\l_{b} + l_{c} \\sin{\\left(\\theta_{2} \\right)}\\end{matrix}\\right]$"
      ],
      "text/plain": [
       "Matrix([\n",
       "[-l_c*sin(\\theta_1)*cos(\\theta_2)],\n",
       "[ l_c*cos(\\theta_1)*cos(\\theta_2)],\n",
       "[         l_b + l_c*sin(\\theta_2)]])"
      ]
     },
     "execution_count": 13,
     "metadata": {},
     "output_type": "execute_result"
    }
   ],
   "source": [
    "p2 = p1+v2_in_a\n",
    "p2"
   ]
  },
  {
   "cell_type": "markdown",
   "id": "1ec1f676-57a6-440d-9867-6e1328a182f1",
   "metadata": {},
   "source": [
    "#### 2. $\\vec{r}$ describing the end effectors position can be given as:\n",
    "\n",
    "$\\vec{r} = l_b\\hat{b_z} + l_c\\hat{c_y}$\n"
   ]
  },
  {
   "cell_type": "markdown",
   "id": "f79dbdd8-10d6-44b8-9802-6a33e8d24b7c",
   "metadata": {},
   "source": [
    "#### 3. $\\vec{r}$ in terms of $(\\hat{a_x}, \\hat{a_y}, \\hat{a_z})$ can be given as below:"
   ]
  },
  {
   "cell_type": "code",
   "execution_count": 14,
   "id": "7ee0e26a-5143-46c5-9bdb-957bf2cc74d3",
   "metadata": {},
   "outputs": [
    {
     "data": {
      "text/latex": [
       "$\\displaystyle \\left[\\begin{matrix}- l_{c} \\sin{\\left(\\theta_{1} \\right)} \\cos{\\left(\\theta_{2} \\right)}\\\\l_{c} \\cos{\\left(\\theta_{1} \\right)} \\cos{\\left(\\theta_{2} \\right)}\\\\l_{b} + l_{c} \\sin{\\left(\\theta_{2} \\right)}\\end{matrix}\\right]$"
      ],
      "text/plain": [
       "Matrix([\n",
       "[-l_c*sin(\\theta_1)*cos(\\theta_2)],\n",
       "[ l_c*cos(\\theta_1)*cos(\\theta_2)],\n",
       "[         l_b + l_c*sin(\\theta_2)]])"
      ]
     },
     "execution_count": 14,
     "metadata": {},
     "output_type": "execute_result"
    }
   ],
   "source": [
    "r = p2\n",
    "r"
   ]
  },
  {
   "cell_type": "code",
   "execution_count": 15,
   "id": "23f7dd30-bddc-4f9b-ba09-8ab39da0d19c",
   "metadata": {},
   "outputs": [
    {
     "data": {
      "text/latex": [
       "$\\displaystyle \\left[\\begin{matrix}0 & 0 & 0\\\\0 & 0 & 1.5\\\\0 & 0.707106781186548 & 2.20710678118655\\end{matrix}\\right]$"
      ],
      "text/plain": [
       "Matrix([\n",
       "[0,                 0,                0],\n",
       "[0,                 0,              1.5],\n",
       "[0, 0.707106781186548, 2.20710678118655]])"
      ]
     },
     "execution_count": 15,
     "metadata": {},
     "output_type": "execute_result"
    }
   ],
   "source": [
    "points = [o.T, p1.T,p2.T]\n",
    "points = sympy.Matrix(points)\n",
    "design = {}\n",
    "design[lb] = 1.5\n",
    "design[lc] = 1\n",
    "state = {}\n",
    "state[q1] = 0*math.pi/180\n",
    "state[q2] = 45*math.pi/180\n",
    "points = points.subs(design)\n",
    "points = points.subs(state)\n",
    "points\n"
   ]
  },
  {
   "cell_type": "code",
   "execution_count": 16,
   "id": "95e232f4-4671-49d9-b06f-e0946d0696a7",
   "metadata": {},
   "outputs": [
    {
     "data": {
      "text/plain": [
       "array([[0.        , 0.        , 0.        ],\n",
       "       [0.        , 0.        , 1.5       ],\n",
       "       [0.        , 0.70710678, 2.20710678]])"
      ]
     },
     "execution_count": 16,
     "metadata": {},
     "output_type": "execute_result"
    }
   ],
   "source": [
    "points = numpy.array(points,dtype=float)\n",
    "points = points.squeeze()\n",
    "points"
   ]
  },
  {
   "cell_type": "code",
   "execution_count": 17,
   "id": "ff16b431-c8d7-4be2-938a-e706d9ec4163",
   "metadata": {},
   "outputs": [],
   "source": [
    "#plt.plot(points[:,0],points[:,1],points[:,2])\n",
    "#plt.axis('equal')"
   ]
  },
  {
   "cell_type": "code",
   "execution_count": 18,
   "id": "bebe7cad-33a1-40d2-b73a-e56802c82e68",
   "metadata": {},
   "outputs": [
    {
     "data": {
      "image/png": "[encoded data removed]",
      "text/plain": [
       "<Figure size 640x480 with 1 Axes>"
      ]
     },
     "metadata": {},
     "output_type": "display_data"
    }
   ],
   "source": [
    "# Create the figure and add a 3D axis\n",
    "fig = plt.figure()\n",
    "ax = fig.add_subplot(111, projection='3d')\n",
    "\n",
    "# Extract the x, y, and z coordinates from the array\n",
    "x = points[:, 0]  # x-coordinates (first column)\n",
    "y = points[:, 1]  # y-coordinates (second column)\n",
    "z = points[:, 2]  # z-coordinates (third column)\n",
    "\n",
    "# Plot the points\n",
    "#ax.scatter(x, y, z, color='blue', label='Points')\n",
    "\n",
    "# Optionally, connect the points with lines\n",
    "ax.plot(x, y, z, color='blue', label='Robot')\n",
    "\n",
    "# Set labels for the axes\n",
    "ax.set_xlabel('X Axis')\n",
    "ax.set_ylabel('Y Axis')\n",
    "ax.set_zlabel('Z Axis (Up)')\n",
    "\n",
    "ax.set_xlim3d([-2,2])\n",
    "ax.set_ylim3d([-2,2])\n",
    "ax.set_zlim3d([0,3])\n",
    "\n",
    "# Set the view so that Z is pointing upwards (default)\n",
    "ax.view_init(elev=10., azim=-30)\n",
    "\n",
    "# Add a legend\n",
    "ax.legend()\n",
    "\n",
    "# Show the plot\n",
    "plt.show()\n"
   ]
  },
  {
   "cell_type": "markdown",
   "id": "ae073b40-1e35-4d5a-98e9-30c8489ec861",
   "metadata": {},
   "source": [
    "#### 4. Jacobian $J$ \n"
   ]
  },
  {
   "cell_type": "code",
   "execution_count": 19,
   "id": "c607561c-9602-4e44-8018-c59a0e8ee508",
   "metadata": {},
   "outputs": [
    {
     "data": {
      "text/latex": [
       "$\\displaystyle \\left[\\begin{matrix}- l_{c} \\sin{\\left(\\theta_{1} \\right)} \\cos{\\left(\\theta_{2} \\right)}\\\\l_{c} \\cos{\\left(\\theta_{1} \\right)} \\cos{\\left(\\theta_{2} \\right)}\\\\l_{b} + l_{c} \\sin{\\left(\\theta_{2} \\right)}\\end{matrix}\\right]$"
      ],
      "text/plain": [
       "Matrix([\n",
       "[-l_c*sin(\\theta_1)*cos(\\theta_2)],\n",
       "[ l_c*cos(\\theta_1)*cos(\\theta_2)],\n",
       "[         l_b + l_c*sin(\\theta_2)]])"
      ]
     },
     "execution_count": 19,
     "metadata": {},
     "output_type": "execute_result"
    }
   ],
   "source": [
    "r"
   ]
  },
  {
   "cell_type": "code",
   "execution_count": 20,
   "id": "b182fe25-e2c1-4dc2-a295-049bff0e52dd",
   "metadata": {},
   "outputs": [
    {
     "data": {
      "text/latex": [
       "$\\displaystyle \\left[\\begin{matrix}- l_{c} \\cos{\\left(\\theta_{1} \\right)} \\cos{\\left(\\theta_{2} \\right)} & l_{c} \\sin{\\left(\\theta_{1} \\right)} \\sin{\\left(\\theta_{2} \\right)}\\\\- l_{c} \\sin{\\left(\\theta_{1} \\right)} \\cos{\\left(\\theta_{2} \\right)} & - l_{c} \\sin{\\left(\\theta_{2} \\right)} \\cos{\\left(\\theta_{1} \\right)}\\\\0 & l_{c} \\cos{\\left(\\theta_{2} \\right)}\\end{matrix}\\right]$"
      ],
      "text/plain": [
       "Matrix([\n",
       "[-l_c*cos(\\theta_1)*cos(\\theta_2),  l_c*sin(\\theta_1)*sin(\\theta_2)],\n",
       "[-l_c*sin(\\theta_1)*cos(\\theta_2), -l_c*sin(\\theta_2)*cos(\\theta_1)],\n",
       "[                               0,                l_c*cos(\\theta_2)]])"
      ]
     },
     "execution_count": 20,
     "metadata": {},
     "output_type": "execute_result"
    }
   ],
   "source": [
    "J = r.jacobian(sympy.Matrix([q1,q2]))\n",
    "J"
   ]
  },
  {
   "cell_type": "code",
   "execution_count": 21,
   "id": "9bee1460-3c5c-4391-be0e-2cd6167655cb",
   "metadata": {},
   "outputs": [
    {
     "data": {
      "text/latex": [
       "$\\displaystyle \\left[\\begin{matrix}- \\frac{3}{4} & \\frac{1}{4}\\\\- \\frac{\\sqrt{3}}{4} & - \\frac{\\sqrt{3}}{4}\\\\0 & \\frac{\\sqrt{3}}{2}\\end{matrix}\\right]$"
      ],
      "text/plain": [
       "Matrix([\n",
       "[      -3/4,        1/4],\n",
       "[-sqrt(3)/4, -sqrt(3)/4],\n",
       "[         0,  sqrt(3)/2]])"
      ]
     },
     "execution_count": 21,
     "metadata": {},
     "output_type": "execute_result"
    }
   ],
   "source": [
    "Jn = J.subs({q1:pi/6,q2: pi/6, lb:1, lc:1})\n",
    "Jn"
   ]
  },
  {
   "cell_type": "markdown",
   "id": "2e383b3b-9f18-4511-a79f-1d2b39021a27",
   "metadata": {},
   "source": [
    "#### 5. Jacobian with $\\dot{\\theta}$ given"
   ]
  },
  {
   "cell_type": "code",
   "execution_count": 22,
   "id": "7a2dcf6e-6c6c-40ce-9c0a-f8ce3f9d26d0",
   "metadata": {},
   "outputs": [
    {
     "data": {
      "text/latex": [
       "$\\displaystyle \\left[\\begin{matrix}- \\cos{\\left(\\frac{\\pi}{6} + 2.2 \\right)} \\cos{\\left(\\frac{\\pi}{6} + 3.1 \\right)} & \\sin{\\left(\\frac{\\pi}{6} + 2.2 \\right)} \\sin{\\left(\\frac{\\pi}{6} + 3.1 \\right)}\\\\- \\sin{\\left(\\frac{\\pi}{6} + 2.2 \\right)} \\cos{\\left(\\frac{\\pi}{6} + 3.1 \\right)} & - \\sin{\\left(\\frac{\\pi}{6} + 3.1 \\right)} \\cos{\\left(\\frac{\\pi}{6} + 2.2 \\right)}\\\\0 & \\cos{\\left(\\frac{\\pi}{6} + 3.1 \\right)}\\end{matrix}\\right]$"
      ],
      "text/plain": [
       "Matrix([\n",
       "[-cos(pi/6 + 2.2)*cos(pi/6 + 3.1),  sin(pi/6 + 2.2)*sin(pi/6 + 3.1)],\n",
       "[-sin(pi/6 + 2.2)*cos(pi/6 + 3.1), -sin(pi/6 + 3.1)*cos(pi/6 + 2.2)],\n",
       "[                               0,                  cos(pi/6 + 3.1)]])"
      ]
     },
     "execution_count": 22,
     "metadata": {},
     "output_type": "execute_result"
    }
   ],
   "source": [
    "Jdel = J.subs({q1:pi/6 + 2.2,q2: pi/6 + 3.1, lb:1, lc:1})\n",
    "Jdel"
   ]
  },
  {
   "cell_type": "markdown",
   "id": "2ef639a4-859d-404f-8f84-476b47218ff6",
   "metadata": {},
   "source": [
    "#### 6. Force excerted"
   ]
  },
  {
   "cell_type": "markdown",
   "id": "9db3ee8a-d088-4fcb-b3e5-ddc11dec2fc8",
   "metadata": {},
   "source": [
    "given $\\vec{f}$ = $500 \\hat{a_x} + 1.7 \\hat{a_y} + 3.2 \\hat{a_z}$"
   ]
  },
  {
   "cell_type": "code",
   "execution_count": 23,
   "id": "65c21dbd-e9ba-4640-8720-6143dcd26199",
   "metadata": {},
   "outputs": [
    {
     "data": {
      "text/latex": [
       "$\\displaystyle \\left[\\begin{matrix}0 & 0\\\\-1 & 0\\\\0 & 1\\end{matrix}\\right]$"
      ],
      "text/plain": [
       "Matrix([\n",
       "[ 0, 0],\n",
       "[-1, 0],\n",
       "[ 0, 1]])"
      ]
     },
     "execution_count": 23,
     "metadata": {},
     "output_type": "execute_result"
    }
   ],
   "source": [
    "Jforce = J.subs({q1:pi/2, q2: 0, lb:1, lc:1})\n",
    "Jforce"
   ]
  },
  {
   "cell_type": "code",
   "execution_count": 24,
   "id": "eb8c8a66-e1c4-43d5-9f0c-f7ee895cbab9",
   "metadata": {},
   "outputs": [
    {
     "data": {
      "text/latex": [
       "$\\displaystyle \\left[\\begin{matrix}500\\\\1.7\\\\3.2\\end{matrix}\\right]$"
      ],
      "text/plain": [
       "Matrix([\n",
       "[500],\n",
       "[1.7],\n",
       "[3.2]])"
      ]
     },
     "execution_count": 24,
     "metadata": {},
     "output_type": "execute_result"
    }
   ],
   "source": [
    "F = sympy.Matrix([500, 1.7, 3.2])\n",
    "F"
   ]
  },
  {
   "cell_type": "markdown",
   "id": "3a3e8c62-2e97-4f35-ad7b-ceba156672d0",
   "metadata": {},
   "source": [
    "We know that $\\tau$ = $J^{T}F$"
   ]
  },
  {
   "cell_type": "code",
   "execution_count": 25,
   "id": "43f86bb9-8291-44ca-8505-c7993d2a1ed0",
   "metadata": {},
   "outputs": [
    {
     "data": {
      "text/latex": [
       "$\\displaystyle \\left[\\begin{matrix}-1.7\\\\3.2\\end{matrix}\\right]$"
      ],
      "text/plain": [
       "Matrix([\n",
       "[-1.7],\n",
       "[ 3.2]])"
      ]
     },
     "execution_count": 25,
     "metadata": {},
     "output_type": "execute_result"
    }
   ],
   "source": [
    "t = symbols('\\\\tau')\n",
    "\n",
    "t = (Jforce.T)*F\n",
    "t"
   ]
  },
  {
   "cell_type": "markdown",
   "id": "66f02c51-0339-463c-b41b-2ab3bba8151f",
   "metadata": {},
   "source": [
    "Thus, we require $\\tau_1$ = 1.7 and $\\tau_2$ = 3.2"
   ]
  },
  {
   "cell_type": "markdown",
   "id": "85022b11-3521-4036-82ed-bc7855e8c807",
   "metadata": {},
   "source": [
    "#### 7. Low torque ($\\tau$) reason"
   ]
  },
  {
   "cell_type": "code",
   "execution_count": 26,
   "id": "528cc674-0d5b-4494-bb11-12b2e6c0e66d",
   "metadata": {},
   "outputs": [
    {
     "data": {
      "text/latex": [
       "$\\displaystyle \\left[\\begin{matrix}0 & 0\\\\-1 & 0\\\\0 & 1\\end{matrix}\\right]$"
      ],
      "text/plain": [
       "Matrix([\n",
       "[ 0, 0],\n",
       "[-1, 0],\n",
       "[ 0, 1]])"
      ]
     },
     "execution_count": 26,
     "metadata": {},
     "output_type": "execute_result"
    }
   ],
   "source": [
    "Jforce"
   ]
  },
  {
   "cell_type": "markdown",
   "id": "a5bea049-18c1-443d-a42c-174b733435a1",
   "metadata": {},
   "source": [
    "We can notice from the jacobian, that the $\\hat{a_x}$ component is 0 in $\\textbf{this configuration}$. This the forces in $\\hat{a_x}$ dont have any effect of the robot."
   ]
  }
 ],
 "metadata": {
  "kernelspec": {
   "display_name": "Python 3 (ipykernel)",
   "language": "python",
   "name": "python3"
  },
  "language_info": {
   "codemirror_mode": {
    "name": "ipython",
    "version": 3
   },
   "file_extension": ".py",
   "mimetype": "text/x-python",
   "name": "python",
   "nbconvert_exporter": "python",
   "pygments_lexer": "ipython3",
   "version": "3.12.2"
  }
 },
 "nbformat": 4,
 "nbformat_minor": 5
}
