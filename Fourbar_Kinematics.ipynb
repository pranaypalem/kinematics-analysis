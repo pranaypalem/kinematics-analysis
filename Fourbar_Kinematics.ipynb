{
 "cells": [
  {
   "cell_type": "code",
   "execution_count": 1,
   "id": "401a61b2-9ae0-4c60-9c7a-9795e6ac6b21",
   "metadata": {},
   "outputs": [],
   "source": [
    "import numpy\n",
    "import math\n",
    "import matplotlib.pyplot as plt\n",
    "import sympy\n",
    "\n",
    "from mpl_toolkits.mplot3d import Axes3D\n",
    "\n",
    "from sympy import symbols, Matrix, pi, cos, sin, I, acos, sqrt\n",
    "from sympy import Quaternion\n",
    "import scipy.optimize as so\n",
    "\n",
    "import pandas as pd"
   ]
  },
  {
   "cell_type": "code",
   "execution_count": 2,
   "id": "4d83e1d0-be0f-4990-aaf1-2930c5343b83",
   "metadata": {},
   "outputs": [
    {
     "data": {
      "text/latex": [
       "$\\displaystyle \\theta_{1}$"
      ],
      "text/plain": [
       "\\theta_1"
      ]
     },
     "execution_count": 2,
     "metadata": {},
     "output_type": "execute_result"
    }
   ],
   "source": [
    "q1, q2 , q3 ,q4 = symbols('\\\\theta_1, \\\\theta_2, \\\\theta_3 , \\\\theta_4')\n",
    "q1"
   ]
  },
  {
   "cell_type": "code",
   "execution_count": 3,
   "id": "3095c58b-3e05-47a2-996b-65740258cc83",
   "metadata": {},
   "outputs": [
    {
     "data": {
      "text/latex": [
       "$\\displaystyle l_{5}$"
      ],
      "text/plain": [
       "l_5"
      ]
     },
     "execution_count": 3,
     "metadata": {},
     "output_type": "execute_result"
    }
   ],
   "source": [
    "l1 ,l2 , l3, l4 , l5 = symbols('l_1,l_2,l_3,l_4,l_5')\n",
    "l5"
   ]
  },
  {
   "cell_type": "code",
   "execution_count": 4,
   "id": "dc9a1f07-ae56-49c0-8dd2-d468476fb95b",
   "metadata": {},
   "outputs": [],
   "source": [
    "def Rz(theta):\n",
    "        Rz = sympy.Matrix([[cos(theta),-sin(theta),0],\n",
    "                           [sin(theta),cos(theta),0],\n",
    "                           [0,0,1]])\n",
    "        return Rz"
   ]
  },
  {
   "cell_type": "code",
   "execution_count": 5,
   "id": "1f17139f-cf30-4eff-ac76-80cb98a50d5a",
   "metadata": {},
   "outputs": [
    {
     "data": {
      "text/latex": [
       "$\\displaystyle \\left[\\begin{matrix}\\cos{\\left(\\theta_{3} + 3.14159265358979 \\right)} & - \\sin{\\left(\\theta_{3} + 3.14159265358979 \\right)} & 0\\\\\\sin{\\left(\\theta_{3} + 3.14159265358979 \\right)} & \\cos{\\left(\\theta_{3} + 3.14159265358979 \\right)} & 0\\\\0 & 0 & 1\\end{matrix}\\right]$"
      ],
      "text/plain": [
       "Matrix([\n",
       "[cos(\\theta_3 + 3.14159265358979), -sin(\\theta_3 + 3.14159265358979), 0],\n",
       "[sin(\\theta_3 + 3.14159265358979),  cos(\\theta_3 + 3.14159265358979), 0],\n",
       "[                               0,                                 0, 1]])"
      ]
     },
     "execution_count": 5,
     "metadata": {},
     "output_type": "execute_result"
    }
   ],
   "source": [
    "Rnb = Rz(q1)\n",
    "Rna = Rz(q2)\n",
    "Rbc = Rz(q3)\n",
    "Rbd = Rz(math.pi + q3)\n",
    "Rae = Rz(q4)\n",
    "Rbd"
   ]
  },
  {
   "cell_type": "code",
   "execution_count": 6,
   "id": "19b9f906-374f-446b-83d8-e4d44cad12ac",
   "metadata": {},
   "outputs": [
    {
     "data": {
      "text/latex": [
       "$\\displaystyle \\left[\\begin{matrix}1\\\\0\\\\0\\end{matrix}\\right]$"
      ],
      "text/plain": [
       "Matrix([\n",
       "[1],\n",
       "[0],\n",
       "[0]])"
      ]
     },
     "execution_count": 6,
     "metadata": {},
     "output_type": "execute_result"
    }
   ],
   "source": [
    "x = sympy.Matrix([1,0,0])\n",
    "x"
   ]
  },
  {
   "cell_type": "code",
   "execution_count": 7,
   "id": "4070ddb1-9184-4eeb-b053-25175abb47d7",
   "metadata": {},
   "outputs": [
    {
     "data": {
      "text/latex": [
       "$\\displaystyle \\left[\\begin{matrix}l_{1}\\\\0\\\\0\\end{matrix}\\right]$"
      ],
      "text/plain": [
       "Matrix([\n",
       "[l_1],\n",
       "[  0],\n",
       "[  0]])"
      ]
     },
     "execution_count": 7,
     "metadata": {},
     "output_type": "execute_result"
    }
   ],
   "source": [
    "v1_in_n = l1 * x\n",
    "v1_in_n"
   ]
  },
  {
   "cell_type": "code",
   "execution_count": 8,
   "id": "3f089dce-d78e-4d4d-8aae-a9d11f9ab80f",
   "metadata": {},
   "outputs": [
    {
     "data": {
      "text/latex": [
       "$\\displaystyle \\left[\\begin{matrix}l_{2} \\cos{\\left(\\theta_{2} \\right)}\\\\l_{2} \\sin{\\left(\\theta_{2} \\right)}\\\\0\\end{matrix}\\right]$"
      ],
      "text/plain": [
       "Matrix([\n",
       "[l_2*cos(\\theta_2)],\n",
       "[l_2*sin(\\theta_2)],\n",
       "[                0]])"
      ]
     },
     "execution_count": 8,
     "metadata": {},
     "output_type": "execute_result"
    }
   ],
   "source": [
    "v2_in_a = l2 * x\n",
    "v2_in_n = Rna * v2_in_a\n",
    "v2_in_n"
   ]
  },
  {
   "cell_type": "code",
   "execution_count": 9,
   "id": "f0c90920-6eb9-464b-a04a-63ff9feed5ed",
   "metadata": {},
   "outputs": [
    {
     "data": {
      "text/latex": [
       "$\\displaystyle \\left[\\begin{matrix}l_{3} \\cos{\\left(\\theta_{1} \\right)}\\\\l_{3} \\sin{\\left(\\theta_{1} \\right)}\\\\0\\end{matrix}\\right]$"
      ],
      "text/plain": [
       "Matrix([\n",
       "[l_3*cos(\\theta_1)],\n",
       "[l_3*sin(\\theta_1)],\n",
       "[                0]])"
      ]
     },
     "execution_count": 9,
     "metadata": {},
     "output_type": "execute_result"
    }
   ],
   "source": [
    "v3_in_b = l3 * x\n",
    "v3_in_n = Rnb * v3_in_b\n",
    "v3_in_n"
   ]
  },
  {
   "cell_type": "code",
   "execution_count": 10,
   "id": "926ef969-6ac7-47a9-bc1e-0968b8002682",
   "metadata": {},
   "outputs": [
    {
     "data": {
      "text/latex": [
       "$\\displaystyle \\left[\\begin{matrix}- l_{4} \\sin{\\left(\\theta_{1} \\right)} \\sin{\\left(\\theta_{3} \\right)} + l_{4} \\cos{\\left(\\theta_{1} \\right)} \\cos{\\left(\\theta_{3} \\right)}\\\\l_{4} \\sin{\\left(\\theta_{1} \\right)} \\cos{\\left(\\theta_{3} \\right)} + l_{4} \\sin{\\left(\\theta_{3} \\right)} \\cos{\\left(\\theta_{1} \\right)}\\\\0\\end{matrix}\\right]$"
      ],
      "text/plain": [
       "Matrix([\n",
       "[-l_4*sin(\\theta_1)*sin(\\theta_3) + l_4*cos(\\theta_1)*cos(\\theta_3)],\n",
       "[ l_4*sin(\\theta_1)*cos(\\theta_3) + l_4*sin(\\theta_3)*cos(\\theta_1)],\n",
       "[                                                                 0]])"
      ]
     },
     "execution_count": 10,
     "metadata": {},
     "output_type": "execute_result"
    }
   ],
   "source": [
    "v4_in_c = l4 * x\n",
    "v4_in_b = Rbc * v4_in_c\n",
    "v4_in_n = Rnb * v4_in_b\n",
    "v4_in_n"
   ]
  },
  {
   "cell_type": "code",
   "execution_count": 11,
   "id": "bfeff437-efc8-446a-ae8c-6e5ea5f85d2e",
   "metadata": {},
   "outputs": [
    {
     "data": {
      "text/latex": [
       "$\\displaystyle \\left[\\begin{matrix}- l_{5} \\sin{\\left(\\theta_{1} \\right)} \\sin{\\left(\\theta_{3} + 3.14159265358979 \\right)} + l_{5} \\cos{\\left(\\theta_{1} \\right)} \\cos{\\left(\\theta_{3} + 3.14159265358979 \\right)}\\\\l_{5} \\sin{\\left(\\theta_{1} \\right)} \\cos{\\left(\\theta_{3} + 3.14159265358979 \\right)} + l_{5} \\sin{\\left(\\theta_{3} + 3.14159265358979 \\right)} \\cos{\\left(\\theta_{1} \\right)}\\\\0\\end{matrix}\\right]$"
      ],
      "text/plain": [
       "Matrix([\n",
       "[-l_5*sin(\\theta_1)*sin(\\theta_3 + 3.14159265358979) + l_5*cos(\\theta_1)*cos(\\theta_3 + 3.14159265358979)],\n",
       "[ l_5*sin(\\theta_1)*cos(\\theta_3 + 3.14159265358979) + l_5*sin(\\theta_3 + 3.14159265358979)*cos(\\theta_1)],\n",
       "[                                                                                                       0]])"
      ]
     },
     "execution_count": 11,
     "metadata": {},
     "output_type": "execute_result"
    }
   ],
   "source": [
    "v5_in_d = l5 * x\n",
    "v5_in_b = Rbd * v5_in_d\n",
    "v5_in_n = Rnb * v5_in_b\n",
    "v5_in_n"
   ]
  },
  {
   "cell_type": "code",
   "execution_count": 12,
   "id": "df4c3079-7df0-4b71-9e8c-8eef3cf44e15",
   "metadata": {},
   "outputs": [],
   "source": [
    "state = numpy.array([ 60,30, 300])*pi/180\n",
    "state = numpy.array(state , dtype = float)"
   ]
  },
  {
   "cell_type": "code",
   "execution_count": 13,
   "id": "622df02f-325b-4565-b07d-e8637b4ea1d9",
   "metadata": {},
   "outputs": [],
   "source": [
    "# Origin\n",
    "o = 0 * x\n",
    "\n",
    "p1 = o + v1_in_n\n",
    "p2 = o + v1_in_n + v2_in_n\n",
    "\n",
    "p3 = o + v3_in_n\n",
    "p4 = o + v3_in_n + v4_in_n\n",
    "\n",
    "p5 = o + v3_in_n + v5_in_n\n",
    "\n"
   ]
  },
  {
   "cell_type": "code",
   "execution_count": 14,
   "id": "2e842d58-d509-45c6-bd8a-99e3de8cadea",
   "metadata": {},
   "outputs": [],
   "source": [
    "design = {}\n",
    "design[l1] = 1\n",
    "design[l2] = 0.8\n",
    "design[l3] = 0.5\n",
    "design[l4] = 1.5\n",
    "design[l5] = 1.4"
   ]
  },
  {
   "cell_type": "code",
   "execution_count": 15,
   "id": "713155c8-96ee-4402-a2f4-73a7fcb28475",
   "metadata": {},
   "outputs": [],
   "source": [
    "points = sympy.Matrix([p2.T, p3.T , p5.T , p3.T , o.T, p1.T, p2.T, p3.T, p4.T])\n",
    "# points\n",
    "points_design = points.subs(design)\n",
    "# points_design\n",
    "# points_design.subs(state).evalf()\n"
   ]
  },
  {
   "cell_type": "code",
   "execution_count": 16,
   "id": "b498d5f2-76b2-42af-a4fb-2ddbce600d0b",
   "metadata": {},
   "outputs": [],
   "source": [
    "def plot_fourbarv2(state):\n",
    "    # Convert state to a dictionary\n",
    "    state_dict = dict(zip([q1, q2, q3], state))\n",
    "    # Substitute the state values into the design points\n",
    "    points_state = points_design.subs(state_dict)\n",
    "    points_state.evalf()\n",
    "    # Convert to a NumPy array\n",
    "    points_state = numpy.array(points_state, dtype=float)\n",
    "    \n",
    "    # Plot the points\n",
    "    plt.plot(points_state[:, 0], points_state[:, 1], 'bo-')  # 'bo-' for blue dots connected by lines\n",
    "    \n",
    "    # Define the labels for each point\n",
    "    labels = ['P2', 'P3', 'P5', 'P3', 'O', 'P1', 'P2', 'P3' , 'P4']\n",
    "    \n",
    "    # Annotate each point with its label\n",
    "    for i, label in enumerate(labels):\n",
    "        plt.text(points_state[i, 0], points_state[i, 1], label, fontsize=12, ha='right')\n",
    "\n",
    "    # Display the plot\n",
    "    plt.xlabel('X')\n",
    "    plt.ylabel('Y')\n",
    "    plt.title('Four-bar Mechanism Plot')\n",
    "    plt.axis('equal')  # Keep the aspect ratio equal for better visualization\n",
    "    plt.show()\n"
   ]
  },
  {
   "cell_type": "code",
   "execution_count": 17,
   "id": "610df5d6-db1f-4813-8f0f-0b58d2ffcd72",
   "metadata": {},
   "outputs": [
    {
     "data": {
      "image/png": "[encoded data removed]",
      "text/plain": [
       "<Figure size 640x480 with 1 Axes>"
      ]
     },
     "metadata": {},
     "output_type": "display_data"
    }
   ],
   "source": [
    "plot_fourbarv2(state)"
   ]
  },
  {
   "cell_type": "code",
   "execution_count": 18,
   "id": "f21a60ca-aff1-4e23-9c1d-966a987d6b9a",
   "metadata": {},
   "outputs": [],
   "source": [
    "### Constraints\n",
    "\n",
    "zero_vec = p2 - p4\n",
    "zero_vec.simplify()\n",
    "\n",
    "zero = []\n",
    "zero.append(zero_vec.T * sympy.Matrix([1,0,0]))\n",
    "zero.append(zero_vec.T * sympy.Matrix([0,1,0]))\n"
   ]
  },
  {
   "cell_type": "code",
   "execution_count": 19,
   "id": "948d0763-e707-4bf2-8e98-f4523eeec355",
   "metadata": {},
   "outputs": [
    {
     "data": {
      "text/latex": [
       "$\\displaystyle \\left[\\begin{matrix}l_{1} + l_{2} \\cos{\\left(\\theta_{2} \\right)} - l_{3} \\cos{\\left(\\theta_{1} \\right)} - l_{4} \\cos{\\left(\\theta_{1} + \\theta_{3} \\right)}\\\\l_{2} \\sin{\\left(\\theta_{2} \\right)} - l_{3} \\sin{\\left(\\theta_{1} \\right)} - l_{4} \\sin{\\left(\\theta_{1} + \\theta_{3} \\right)}\\end{matrix}\\right]$"
      ],
      "text/plain": [
       "Matrix([\n",
       "[l_1 + l_2*cos(\\theta_2) - l_3*cos(\\theta_1) - l_4*cos(\\theta_1 + \\theta_3)],\n",
       "[      l_2*sin(\\theta_2) - l_3*sin(\\theta_1) - l_4*sin(\\theta_1 + \\theta_3)]])"
      ]
     },
     "execution_count": 19,
     "metadata": {},
     "output_type": "execute_result"
    }
   ],
   "source": [
    "zero = sympy.Matrix(zero)\n",
    "zero.simplify()\n",
    "zero"
   ]
  },
  {
   "cell_type": "code",
   "execution_count": 20,
   "id": "67a20dff-5826-40d0-872b-2acb06cb846f",
   "metadata": {},
   "outputs": [
    {
     "data": {
      "text/latex": [
       "$\\displaystyle \\left[\\begin{matrix}- 0.5 \\cos{\\left(\\theta_{1} \\right)} + 0.8 \\cos{\\left(\\theta_{2} \\right)} - 1.5 \\cos{\\left(\\theta_{1} + \\theta_{3} \\right)} + 1\\\\- 0.5 \\sin{\\left(\\theta_{1} \\right)} + 0.8 \\sin{\\left(\\theta_{2} \\right)} - 1.5 \\sin{\\left(\\theta_{1} + \\theta_{3} \\right)}\\end{matrix}\\right]$"
      ],
      "text/plain": [
       "Matrix([\n",
       "[-0.5*cos(\\theta_1) + 0.8*cos(\\theta_2) - 1.5*cos(\\theta_1 + \\theta_3) + 1],\n",
       "[    -0.5*sin(\\theta_1) + 0.8*sin(\\theta_2) - 1.5*sin(\\theta_1 + \\theta_3)]])"
      ]
     },
     "execution_count": 20,
     "metadata": {},
     "output_type": "execute_result"
    }
   ],
   "source": [
    "zero_design = zero.subs(design)\n",
    "zero_design"
   ]
  },
  {
   "cell_type": "code",
   "execution_count": 21,
   "id": "4b0b92f3-08ce-43b4-a9fc-ce1d1d6a61d6",
   "metadata": {},
   "outputs": [
    {
     "data": {
      "text/plain": [
       "array([1.91986218, 2.7925268 , 4.36332313])"
      ]
     },
     "execution_count": 21,
     "metadata": {},
     "output_type": "execute_result"
    }
   ],
   "source": [
    "ini = numpy.array([110, 160, 250])*pi/180\n",
    "ini = numpy.array(ini , dtype = float)\n",
    "ini"
   ]
  },
  {
   "cell_type": "code",
   "execution_count": 22,
   "id": "575f9aea-c717-447b-93c9-bcdf7a509864",
   "metadata": {},
   "outputs": [],
   "source": [
    "state = {}\n",
    "state[q1] = 60 * pi/180\n",
    "state[q2] = 30 * pi/180\n",
    "state[q3] = 290 * pi/180\n"
   ]
  },
  {
   "cell_type": "code",
   "execution_count": 23,
   "id": "2304a448-90c0-47e0-bbbc-b82481446ec2",
   "metadata": {},
   "outputs": [],
   "source": [
    "def objective_function(variables):\n",
    "   \n",
    "    q1n, q2n, q3n = variables\n",
    "\n",
    "    state = {}\n",
    "    state[q1] = q1n\n",
    "    state[q2] = q2n\n",
    "    state[q3] = q3n\n",
    "    \n",
    "\n",
    "    zero_n = zero_design.subs(state)\n",
    "    zero_n.evalf()\n",
    "    sos = ((zero_n.T*zero_n)[0])**0.5\n",
    "    #print(sos)\n",
    "    return float(sos)\n"
   ]
  },
  {
   "cell_type": "code",
   "execution_count": 24,
   "id": "91a53e28-ddea-4f11-9696-d035b3a368d6",
   "metadata": {},
   "outputs": [
    {
     "data": {
      "text/plain": [
       "1.0984142830538304"
      ]
     },
     "execution_count": 24,
     "metadata": {},
     "output_type": "execute_result"
    }
   ],
   "source": [
    " objective_function(ini)"
   ]
  },
  {
   "cell_type": "code",
   "execution_count": 25,
   "id": "3c883c85-9c45-43c6-b3df-9968c6f8fdf0",
   "metadata": {},
   "outputs": [
    {
     "data": {
      "text/plain": [
       "array([2.44240853, 1.52155909, 4.16456038])"
      ]
     },
     "execution_count": 25,
     "metadata": {},
     "output_type": "execute_result"
    }
   ],
   "source": [
    "result = so.minimize(objective_function,x0 = ini,method = \"powell\")\n",
    "result.x"
   ]
  },
  {
   "cell_type": "code",
   "execution_count": 26,
   "id": "1707619e-b9cf-4603-b1e8-aa18f4dc0ca2",
   "metadata": {},
   "outputs": [
    {
     "data": {
      "image/png": "[encoded data removed]",
      "text/plain": [
       "<Figure size 640x480 with 1 Axes>"
      ]
     },
     "metadata": {},
     "output_type": "display_data"
    }
   ],
   "source": [
    "plot_fourbarv2(result.x)"
   ]
  },
  {
   "cell_type": "code",
   "execution_count": 27,
   "id": "62317bc0-df06-4d93-824a-e9e38c7d900d",
   "metadata": {},
   "outputs": [],
   "source": [
    "q1_test = numpy.arange(10,170, step = 40 )\n",
    "q2_test = numpy.arange(110,190, step = 20 )\n",
    "q3_test = numpy.arange(350,190, step = -40)\n"
   ]
  },
  {
   "cell_type": "code",
   "execution_count": 28,
   "id": "3d9516f3-78de-42c9-967e-02db36f29acf",
   "metadata": {},
   "outputs": [
    {
     "data": {
      "text/plain": [
       "array([0.17453293, 1.91986218, 6.10865238])"
      ]
     },
     "execution_count": 28,
     "metadata": {},
     "output_type": "execute_result"
    }
   ],
   "source": [
    "q_test = numpy.column_stack((q1_test, q2_test, q3_test))\n",
    "q_test = q_test * (math.pi / 180)\n",
    "q_test[0]"
   ]
  },
  {
   "cell_type": "code",
   "execution_count": 29,
   "id": "3138809f-0c25-4285-a592-911ca36a1a2b",
   "metadata": {},
   "outputs": [],
   "source": [
    "obj_before = []\n",
    "result_opt = []"
   ]
  },
  {
   "cell_type": "code",
   "execution_count": 30,
   "id": "681dc0f0-4eb8-4f04-a317-50288a198af1",
   "metadata": {},
   "outputs": [
    {
     "name": "stdout",
     "output_type": "stream",
     "text": [
      "[1.10161954 0.44362019 5.11311181]\n",
      "[1.70711744 1.01723214 4.69982594]\n",
      "[2.23040637 1.39312582 4.31738309]\n",
      "[2.52014324 1.56514028 4.10916518]\n"
     ]
    }
   ],
   "source": [
    "for i in range(len(q1_test)):\n",
    "    sos = objective_function(q_test[i])\n",
    "    obj_before.append(sos)\n",
    "    result = so.minimize(objective_function,x0 = q_test[i] ,method = \"powell\")\n",
    "    result_opt.append(result.x)\n",
    "    print(result.x)\n",
    "    # print(i)\n"
   ]
  },
  {
   "cell_type": "code",
   "execution_count": 31,
   "id": "f4f772a0-4dba-453e-b421-8c295ee837b2",
   "metadata": {},
   "outputs": [
    {
     "data": {
      "text/plain": [
       "[array([1.10161954, 0.44362019, 5.11311181]),\n",
       " array([1.70711744, 1.01723214, 4.69982594]),\n",
       " array([2.23040637, 1.39312582, 4.31738309]),\n",
       " array([2.52014324, 1.56514028, 4.10916518])]"
      ]
     },
     "execution_count": 31,
     "metadata": {},
     "output_type": "execute_result"
    }
   ],
   "source": [
    "result_opt"
   ]
  },
  {
   "cell_type": "code",
   "execution_count": 32,
   "id": "372296a9-ebea-449e-a72a-64dacf59e4d6",
   "metadata": {},
   "outputs": [
    {
     "data": {
      "image/png": "[encoded data removed]",
      "text/plain": [
       "<Figure size 1200x1000 with 1 Axes>"
      ]
     },
     "metadata": {},
     "output_type": "display_data"
    }
   ],
   "source": [
    "\n",
    "# Function to plot the four-bar mechanism\n",
    "def plot_fourbarv2(result_opt):\n",
    "    # Define a list of colors to cycle through\n",
    "    colors = ['b', 'g', 'r', 'c', 'm', 'y']  # List of colors (you can add more if needed)\n",
    "    \n",
    "    # Initialize the plot\n",
    "    plt.figure(figsize=(12, 10))\n",
    "    \n",
    "    # Iterate over the result_opt list and plot each point with a different color\n",
    "    for i, (state, color) in enumerate(zip(result_opt, colors)):\n",
    "        # Convert state to a dictionary\n",
    "        state_dict = dict(zip([q1, q2, q3], state))  # Assuming q1, q2, q3 are defined somewhere\n",
    "        points_state = points_design.subs(state_dict)  # Assuming points_design is defined\n",
    "        points_state = numpy.array(points_state, dtype=float)\n",
    "\n",
    "        # Plot the points for each state with a different color\n",
    "        plt.plot(points_state[:, 0], points_state[:, 1], color + 'o-', label=f'State {i + 1}')\n",
    "        \n",
    "        # Define the labels for each point (same as before or adjusted as needed)\n",
    "        labels = ['P2', 'P3', 'P5', 'P3', 'O', 'P1', 'P2', 'P3', '.']\n",
    "        \n",
    "        # Annotate each point with its label\n",
    "        for j, label in enumerate(labels):\n",
    "            plt.text(points_state[j, 0], points_state[j, 1], label, fontsize=12, ha='right')\n",
    "    \n",
    "    # Customize the plot\n",
    "    plt.xlabel('X')\n",
    "    plt.ylabel('Y')\n",
    "    plt.title('Four-bar Mechanism Plot')\n",
    "    plt.axis('equal')  # Keep the aspect ratio equal for better visualization\n",
    "    plt.legend()  # Display a legend for different states\n",
    "    plt.show()\n",
    "\n",
    "plot_fourbarv2(result_opt)\n"
   ]
  },
  {
   "cell_type": "code",
   "execution_count": 33,
   "id": "9c8114b8-ba27-447e-961d-e64fea3b6688",
   "metadata": {},
   "outputs": [
    {
     "data": {
      "text/plain": [
       "(4, 3)"
      ]
     },
     "execution_count": 33,
     "metadata": {},
     "output_type": "execute_result"
    }
   ],
   "source": [
    "result_opt = numpy.array(result_opt, dtype = float )\n",
    "\n",
    "result_opt_deg = result_opt * (180/math.pi)\n",
    "result_opt_deg.shape"
   ]
  },
  {
   "cell_type": "code",
   "execution_count": 34,
   "id": "19a32f91-91e1-46e1-9acd-555c94de8bca",
   "metadata": {},
   "outputs": [
    {
     "data": {
      "text/html": [
       "<div>\n",
       "<style scoped>\n",
       "    .dataframe tbody tr th:only-of-type {\n",
       "        vertical-align: middle;\n",
       "    }\n",
       "\n",
       "    .dataframe tbody tr th {\n",
       "        vertical-align: top;\n",
       "    }\n",
       "\n",
       "    .dataframe thead th {\n",
       "        text-align: right;\n",
       "    }\n",
       "</style>\n",
       "<table border=\"1\" class=\"dataframe\">\n",
       "  <thead>\n",
       "    <tr style=\"text-align: right;\">\n",
       "      <th></th>\n",
       "      <th>q1</th>\n",
       "      <th>q2</th>\n",
       "      <th>q3</th>\n",
       "    </tr>\n",
       "  </thead>\n",
       "  <tbody>\n",
       "    <tr>\n",
       "      <th>state1</th>\n",
       "      <td>63.118150</td>\n",
       "      <td>25.417565</td>\n",
       "      <td>292.959727</td>\n",
       "    </tr>\n",
       "    <tr>\n",
       "      <th>state2</th>\n",
       "      <td>97.810624</td>\n",
       "      <td>58.283108</td>\n",
       "      <td>269.280191</td>\n",
       "    </tr>\n",
       "    <tr>\n",
       "      <th>state3</th>\n",
       "      <td>127.792871</td>\n",
       "      <td>79.820230</td>\n",
       "      <td>247.367830</td>\n",
       "    </tr>\n",
       "    <tr>\n",
       "      <th>state4</th>\n",
       "      <td>144.393572</td>\n",
       "      <td>89.675932</td>\n",
       "      <td>235.437822</td>\n",
       "    </tr>\n",
       "  </tbody>\n",
       "</table>\n",
       "</div>"
      ],
      "text/plain": [
       "                q1         q2          q3\n",
       "state1   63.118150  25.417565  292.959727\n",
       "state2   97.810624  58.283108  269.280191\n",
       "state3  127.792871  79.820230  247.367830\n",
       "state4  144.393572  89.675932  235.437822"
      ]
     },
     "execution_count": 34,
     "metadata": {},
     "output_type": "execute_result"
    }
   ],
   "source": [
    "df = pd.DataFrame(result_opt_deg, columns=['q1', 'q2', 'q3'], index=['state1', 'state2', 'state3', 'state4'])\n",
    "df"
   ]
  },
  {
   "cell_type": "markdown",
   "id": "ba2f31d7-b7b6-4133-970b-dcd1bc516ff4",
   "metadata": {},
   "source": [
    "### Jacobian"
   ]
  },
  {
   "cell_type": "code",
   "execution_count": 35,
   "id": "9a7cac10-857b-4cff-8936-2446aaf22553",
   "metadata": {},
   "outputs": [
    {
     "data": {
      "text/latex": [
       "$\\displaystyle \\left[\\begin{matrix}l_{3} \\cos{\\left(\\theta_{1} \\right)} - l_{5} \\sin{\\left(\\theta_{1} \\right)} \\sin{\\left(\\theta_{3} + 3.14159265358979 \\right)} + l_{5} \\cos{\\left(\\theta_{1} \\right)} \\cos{\\left(\\theta_{3} + 3.14159265358979 \\right)}\\\\l_{3} \\sin{\\left(\\theta_{1} \\right)} + l_{5} \\sin{\\left(\\theta_{1} \\right)} \\cos{\\left(\\theta_{3} + 3.14159265358979 \\right)} + l_{5} \\sin{\\left(\\theta_{3} + 3.14159265358979 \\right)} \\cos{\\left(\\theta_{1} \\right)}\\\\0\\end{matrix}\\right]$"
      ],
      "text/plain": [
       "Matrix([\n",
       "[l_3*cos(\\theta_1) - l_5*sin(\\theta_1)*sin(\\theta_3 + 3.14159265358979) + l_5*cos(\\theta_1)*cos(\\theta_3 + 3.14159265358979)],\n",
       "[l_3*sin(\\theta_1) + l_5*sin(\\theta_1)*cos(\\theta_3 + 3.14159265358979) + l_5*sin(\\theta_3 + 3.14159265358979)*cos(\\theta_1)],\n",
       "[                                                                                                                          0]])"
      ]
     },
     "execution_count": 35,
     "metadata": {},
     "output_type": "execute_result"
    }
   ],
   "source": [
    "p5"
   ]
  },
  {
   "cell_type": "code",
   "execution_count": 36,
   "id": "df565ae2-ff36-429e-9083-b5e9dcc1d91c",
   "metadata": {},
   "outputs": [
    {
     "data": {
      "text/latex": [
       "$\\displaystyle \\left[\\begin{matrix}- l_{3} \\sin{\\left(\\theta_{1} \\right)} - l_{5} \\sin{\\left(\\theta_{1} \\right)} \\cos{\\left(\\theta_{3} + 3.14159265358979 \\right)} - l_{5} \\sin{\\left(\\theta_{3} + 3.14159265358979 \\right)} \\cos{\\left(\\theta_{1} \\right)} & 0 & - l_{5} \\sin{\\left(\\theta_{1} \\right)} \\cos{\\left(\\theta_{3} + 3.14159265358979 \\right)} - l_{5} \\sin{\\left(\\theta_{3} + 3.14159265358979 \\right)} \\cos{\\left(\\theta_{1} \\right)}\\\\l_{3} \\cos{\\left(\\theta_{1} \\right)} - l_{5} \\sin{\\left(\\theta_{1} \\right)} \\sin{\\left(\\theta_{3} + 3.14159265358979 \\right)} + l_{5} \\cos{\\left(\\theta_{1} \\right)} \\cos{\\left(\\theta_{3} + 3.14159265358979 \\right)} & 0 & - l_{5} \\sin{\\left(\\theta_{1} \\right)} \\sin{\\left(\\theta_{3} + 3.14159265358979 \\right)} + l_{5} \\cos{\\left(\\theta_{1} \\right)} \\cos{\\left(\\theta_{3} + 3.14159265358979 \\right)}\\\\0 & 0 & 0\\end{matrix}\\right]$"
      ],
      "text/plain": [
       "Matrix([\n",
       "[-l_3*sin(\\theta_1) - l_5*sin(\\theta_1)*cos(\\theta_3 + 3.14159265358979) - l_5*sin(\\theta_3 + 3.14159265358979)*cos(\\theta_1), 0, -l_5*sin(\\theta_1)*cos(\\theta_3 + 3.14159265358979) - l_5*sin(\\theta_3 + 3.14159265358979)*cos(\\theta_1)],\n",
       "[ l_3*cos(\\theta_1) - l_5*sin(\\theta_1)*sin(\\theta_3 + 3.14159265358979) + l_5*cos(\\theta_1)*cos(\\theta_3 + 3.14159265358979), 0, -l_5*sin(\\theta_1)*sin(\\theta_3 + 3.14159265358979) + l_5*cos(\\theta_1)*cos(\\theta_3 + 3.14159265358979)],\n",
       "[                                                                                                                           0, 0,                                                                                                        0]])"
      ]
     },
     "execution_count": 36,
     "metadata": {},
     "output_type": "execute_result"
    }
   ],
   "source": [
    "J = p5.jacobian(sympy.Matrix([q1,q2,q3]))\n",
    "J"
   ]
  },
  {
   "cell_type": "code",
   "execution_count": 37,
   "id": "44b49083-cefd-4f6b-870c-db26d88e892c",
   "metadata": {},
   "outputs": [
    {
     "data": {
      "text/latex": [
       "$\\displaystyle \\left[\\begin{matrix}-1.37455808400913 & 0 & -1.23335709224256\\\\1.14209074319107 & 0 & 0.662442663945319\\\\0 & 0 & 0\\end{matrix}\\right]$"
      ],
      "text/plain": [
       "Matrix([\n",
       "[-1.37455808400913, 0, -1.23335709224256],\n",
       "[ 1.14209074319107, 0, 0.662442663945319],\n",
       "[                0, 0,                 0]])"
      ]
     },
     "execution_count": 37,
     "metadata": {},
     "output_type": "execute_result"
    }
   ],
   "source": [
    "# Jacobian at state 1\n",
    "df.loc['state1', 'q1']\n",
    "\n",
    "Jn = J.subs({q1: df.loc['state1', 'q1'] , q2: df.loc['state1', 'q2'], q3:df.loc['state1', 'q3'] }).subs(design)\n",
    "Jn"
   ]
  },
  {
   "cell_type": "code",
   "execution_count": 38,
   "id": "8b41dcca-edf7-47d1-8300-52149e6f003a",
   "metadata": {},
   "outputs": [
    {
     "data": {
      "text/latex": [
       "$\\displaystyle \\left[\\begin{matrix}-0.007848\\\\0\\\\-0.01962\\end{matrix}\\right]$"
      ],
      "text/plain": [
       "Matrix([\n",
       "[-0.007848],\n",
       "[        0],\n",
       "[ -0.01962]])"
      ]
     },
     "execution_count": 38,
     "metadata": {},
     "output_type": "execute_result"
    }
   ],
   "source": [
    "# Normal force  = 2g * 9.81 = -0.01962\n",
    "# Kinetic friction = 0.4 * 0.01962 = -0.007848\n",
    "\n",
    "F = sympy.Matrix([-0.007848, 0, -0.01962])\n",
    "F"
   ]
  },
  {
   "cell_type": "markdown",
   "id": "b8256d9a-598a-470f-a2c4-abd1735b1daf",
   "metadata": {},
   "source": [
    "We know that $\\tau$ = $J^{T}F$"
   ]
  },
  {
   "cell_type": "code",
   "execution_count": 39,
   "id": "0d8dde50-c3fb-4b40-a987-9c002af4726c",
   "metadata": {},
   "outputs": [
    {
     "data": {
      "text/latex": [
       "$\\displaystyle \\left[\\begin{matrix}0.0107875318433036\\\\0\\\\0.00967938645991963\\end{matrix}\\right]$"
      ],
      "text/plain": [
       "Matrix([\n",
       "[ 0.0107875318433036],\n",
       "[                  0],\n",
       "[0.00967938645991963]])"
      ]
     },
     "execution_count": 39,
     "metadata": {},
     "output_type": "execute_result"
    }
   ],
   "source": [
    "t = symbols('\\\\tau')\n",
    "# Jn.T\n",
    "t = (Jn.T)*F\n",
    "t"
   ]
  }
 ],
 "metadata": {
  "kernelspec": {
   "display_name": "Python 3 (ipykernel)",
   "language": "python",
   "name": "python3"
  },
  "language_info": {
   "codemirror_mode": {
    "name": "ipython",
    "version": 3
   },
   "file_extension": ".py",
   "mimetype": "text/x-python",
   "name": "python",
   "nbconvert_exporter": "python",
   "pygments_lexer": "ipython3",
   "version": "3.10.12"
  }
 },
 "nbformat": 4,
 "nbformat_minor": 5
}
